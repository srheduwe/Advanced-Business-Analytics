{
 "cells": [
  {
   "cell_type": "markdown",
   "id": "2578a627",
   "metadata": {
    "id": "2578a627"
   },
   "source": [
    "# Part 2: Creation of User Profiles\n",
    "The goal of this notebook is to enrich the given data with different types of information. This information is centered around some \"psychological\" factors, such as sentiments and emotionality of the reviews, as well as \"behaviour\" factors, like favourite places or given ratings. General information such as gender and education is also added.\n",
    "We start by importing the cleaned data (see notebook 1 for data preparation). Note: If the notebook is to be run, the appendix must be executed first."
   ]
  },
  {
   "cell_type": "markdown",
   "id": "5165bd33",
   "metadata": {
    "id": "5165bd33"
   },
   "source": [
    "**Table of Contents**\n",
    "1. [Data read-in](#read_in) \n",
    "2. [Wordcloud](#wordcloud)\n",
    "3. [Enrichment of the data](#enrichment)\\\n",
    "    3.1 [Review Lengths](#length)\\\n",
    "    3.2 [Sentiment Analysis](#sentiment)\\\n",
    "    3.3 [Emotionality Analysis](#emotionality)\\\n",
    "    3.4 [Readability Analysis](#readability)\\\n",
    "    3.5 [Profanity Check](#profanity)\\\n",
    "    3.6 [Gender Information](#gender)\\\n",
    "    3.7 [Education Information](#education)\n",
    "4. [Sanity Check for Sentiments and Emotionality](#sanitycheck)\n",
    "5. [Aggregating User Profiles](#profiles)\\\n",
    "    5.1 [Adding high-level category](#highlevel)\\\n",
    "    5.2 [Adding top emotion to top category](#top_emotion)\\\n",
    "    5.3 [Adding top locations](#top_states)\n",
    "6. [Conclusions](#conclusions)\n",
    "7. [References](#ref)\n",
    "8. [Appendix](#append)"
   ]
  },
  {
   "cell_type": "markdown",
   "id": "483fa759",
   "metadata": {
    "id": "483fa759"
   },
   "source": [
    "<a id='read_in'></a>\n",
    "## 1. Data read-in\n",
    "In the following, we read in the data that was prepared in notebook 1. We further remove embedded newlines and leading and trailing whitespace from the reviews."
   ]
  },
  {
   "cell_type": "code",
   "execution_count": null,
   "id": "1a9f9ec4",
   "metadata": {
    "id": "1a9f9ec4",
    "outputId": "c3878415-7622-4a82-cd0b-c56c7323a656"
   },
   "outputs": [
    {
     "data": {
      "text/html": [
       "<div>\n",
       "<style scoped>\n",
       "    .dataframe tbody tr th:only-of-type {\n",
       "        vertical-align: middle;\n",
       "    }\n",
       "\n",
       "    .dataframe tbody tr th {\n",
       "        vertical-align: top;\n",
       "    }\n",
       "\n",
       "    .dataframe thead th {\n",
       "        text-align: right;\n",
       "    }\n",
       "</style>\n",
       "<table border=\"1\" class=\"dataframe\">\n",
       "  <thead>\n",
       "    <tr style=\"text-align: right;\">\n",
       "      <th></th>\n",
       "      <th>placeID</th>\n",
       "      <th>name</th>\n",
       "      <th>lat</th>\n",
       "      <th>long</th>\n",
       "      <th>address</th>\n",
       "      <th>price_clean</th>\n",
       "      <th>country</th>\n",
       "      <th>state</th>\n",
       "      <th>username</th>\n",
       "      <th>userID</th>\n",
       "      <th>...</th>\n",
       "      <th>date</th>\n",
       "      <th>time</th>\n",
       "      <th>lang</th>\n",
       "      <th>currentPlace</th>\n",
       "      <th>education</th>\n",
       "      <th>jobs</th>\n",
       "      <th>previousPlaces</th>\n",
       "      <th>category</th>\n",
       "      <th>category1</th>\n",
       "      <th>count\\r</th>\n",
       "    </tr>\n",
       "  </thead>\n",
       "  <tbody>\n",
       "    <tr>\n",
       "      <th>0</th>\n",
       "      <td>104699454385822125632</td>\n",
       "      <td>Diamond Valley Lake Marina</td>\n",
       "      <td>33.703804</td>\n",
       "      <td>-117.003209</td>\n",
       "      <td>2615 Angler AveHemet, CA 92545</td>\n",
       "      <td>NaN</td>\n",
       "      <td>US</td>\n",
       "      <td>CA</td>\n",
       "      <td>Keith Willems</td>\n",
       "      <td>109283356541834506464</td>\n",
       "      <td>...</td>\n",
       "      <td>Jul 4, 2013</td>\n",
       "      <td>1.372999e+09</td>\n",
       "      <td>en</td>\n",
       "      <td>['Valle Vista, CA, United States', [[], 337477...</td>\n",
       "      <td>[[[], [], [], [], [], 6], [['Southern Californ...</td>\n",
       "      <td>[['mt plaza mail and ship', 'shipper', [[1, 1,...</td>\n",
       "      <td>[]</td>\n",
       "      <td>['Marina', 'Recreation', 'Fishing Lake']</td>\n",
       "      <td>Marina</td>\n",
       "      <td>19</td>\n",
       "    </tr>\n",
       "    <tr>\n",
       "      <th>1</th>\n",
       "      <td>117477090906709658119</td>\n",
       "      <td>Pins &amp; Needles Pro Shop</td>\n",
       "      <td>33.747513</td>\n",
       "      <td>-116.998209</td>\n",
       "      <td>2850 W Florida AveHemet, CA 92545</td>\n",
       "      <td>NaN</td>\n",
       "      <td>US</td>\n",
       "      <td>CA</td>\n",
       "      <td>Keith Willems</td>\n",
       "      <td>109283356541834506464</td>\n",
       "      <td>...</td>\n",
       "      <td>Jul 12, 2013</td>\n",
       "      <td>1.373637e+09</td>\n",
       "      <td>en</td>\n",
       "      <td>['Valle Vista, CA, United States', [[], 337477...</td>\n",
       "      <td>[[[], [], [], [], [], 6], [['Southern Californ...</td>\n",
       "      <td>[['mt plaza mail and ship', 'shipper', [[1, 1,...</td>\n",
       "      <td>[]</td>\n",
       "      <td>['Bowling Supply Shop']</td>\n",
       "      <td>Bowling Supply Shop</td>\n",
       "      <td>19</td>\n",
       "    </tr>\n",
       "    <tr>\n",
       "      <th>2</th>\n",
       "      <td>118090863044520175763</td>\n",
       "      <td>Naval Base Ventura County: Point Mugu</td>\n",
       "      <td>34.118670</td>\n",
       "      <td>-119.119901</td>\n",
       "      <td>311 Main Rd #1Point Mugu, CA 93042</td>\n",
       "      <td>NaN</td>\n",
       "      <td>US</td>\n",
       "      <td>CA</td>\n",
       "      <td>Keith Willems</td>\n",
       "      <td>109283356541834506464</td>\n",
       "      <td>...</td>\n",
       "      <td>Jun 25, 2013</td>\n",
       "      <td>1.372175e+09</td>\n",
       "      <td>en</td>\n",
       "      <td>['Valle Vista, CA, United States', [[], 337477...</td>\n",
       "      <td>[[[], [], [], [], [], 6], [['Southern Californ...</td>\n",
       "      <td>[['mt plaza mail and ship', 'shipper', [[1, 1,...</td>\n",
       "      <td>[]</td>\n",
       "      <td>['Naval Base']</td>\n",
       "      <td>Naval Base</td>\n",
       "      <td>19</td>\n",
       "    </tr>\n",
       "  </tbody>\n",
       "</table>\n",
       "<p>3 rows × 22 columns</p>\n",
       "</div>"
      ],
      "text/plain": [
       "                 placeID                                   name        lat  \\\n",
       "0  104699454385822125632             Diamond Valley Lake Marina  33.703804   \n",
       "1  117477090906709658119                Pins & Needles Pro Shop  33.747513   \n",
       "2  118090863044520175763  Naval Base Ventura County: Point Mugu  34.118670   \n",
       "\n",
       "         long                             address  price_clean country state  \\\n",
       "0 -117.003209      2615 Angler AveHemet, CA 92545          NaN      US    CA   \n",
       "1 -116.998209   2850 W Florida AveHemet, CA 92545          NaN      US    CA   \n",
       "2 -119.119901  311 Main Rd #1Point Mugu, CA 93042          NaN      US    CA   \n",
       "\n",
       "        username                 userID  ...          date          time lang  \\\n",
       "0  Keith Willems  109283356541834506464  ...   Jul 4, 2013  1.372999e+09   en   \n",
       "1  Keith Willems  109283356541834506464  ...  Jul 12, 2013  1.373637e+09   en   \n",
       "2  Keith Willems  109283356541834506464  ...  Jun 25, 2013  1.372175e+09   en   \n",
       "\n",
       "                                        currentPlace  \\\n",
       "0  ['Valle Vista, CA, United States', [[], 337477...   \n",
       "1  ['Valle Vista, CA, United States', [[], 337477...   \n",
       "2  ['Valle Vista, CA, United States', [[], 337477...   \n",
       "\n",
       "                                           education  \\\n",
       "0  [[[], [], [], [], [], 6], [['Southern Californ...   \n",
       "1  [[[], [], [], [], [], 6], [['Southern Californ...   \n",
       "2  [[[], [], [], [], [], 6], [['Southern Californ...   \n",
       "\n",
       "                                                jobs previousPlaces  \\\n",
       "0  [['mt plaza mail and ship', 'shipper', [[1, 1,...             []   \n",
       "1  [['mt plaza mail and ship', 'shipper', [[1, 1,...             []   \n",
       "2  [['mt plaza mail and ship', 'shipper', [[1, 1,...             []   \n",
       "\n",
       "                                   category            category1 count\\r  \n",
       "0  ['Marina', 'Recreation', 'Fishing Lake']               Marina      19  \n",
       "1                   ['Bowling Supply Shop']  Bowling Supply Shop      19  \n",
       "2                            ['Naval Base']           Naval Base      19  \n",
       "\n",
       "[3 rows x 22 columns]"
      ]
     },
     "execution_count": 17,
     "metadata": {},
     "output_type": "execute_result"
    }
   ],
   "source": [
    "#read in the data\n",
    "df = pd.read_csv('Clean_dataset_google_local_data_with_3+_reviews.csv', lineterminator = '\\n')\n",
    "df.head(3)"
   ]
  },
  {
   "cell_type": "code",
   "execution_count": null,
   "id": "d48ffac2",
   "metadata": {
    "id": "d48ffac2",
    "outputId": "85db2d10-3e3a-4d71-9bdf-177403f8cdc5"
   },
   "outputs": [
    {
     "data": {
      "text/plain": [
       "(1610141, 22)"
      ]
     },
     "execution_count": 18,
     "metadata": {},
     "output_type": "execute_result"
    }
   ],
   "source": [
    "df.shape"
   ]
  },
  {
   "cell_type": "code",
   "execution_count": null,
   "id": "c95ac4f9",
   "metadata": {
    "id": "c95ac4f9"
   },
   "outputs": [],
   "source": [
    "#remove embedded newlines and leading and trailing whitespace from the reviews\n",
    "def newlines_whitespace(text):\n",
    "    text = text.replace('\\n',' ')\n",
    "    \n",
    "    #whitespace\n",
    "    text = text.strip()\n",
    "    return text\n",
    "\n",
    "df['review'] = df['review'].apply(lambda x: newlines_whitespace(x))"
   ]
  },
  {
   "cell_type": "markdown",
   "id": "323c07f9",
   "metadata": {
    "id": "323c07f9"
   },
   "source": [
    "<a id='wordcloud'></a>\n",
    "## 2. Wordcloud"
   ]
  },
  {
   "cell_type": "markdown",
   "id": "9ac38b24",
   "metadata": {
    "id": "9ac38b24"
   },
   "source": [
    "To gain a first overview over the reviews, we create a wordcloud. Because the code is rather memory-intensive, we restrict the data to a random sample with 500.000 entries."
   ]
  },
  {
   "cell_type": "code",
   "execution_count": null,
   "id": "a54c5e1f",
   "metadata": {
    "id": "a54c5e1f"
   },
   "outputs": [],
   "source": [
    "#code is taken from Lecture 2 (\"Text Analysis - Part 1: Spam Classification\")\n",
    "def show_wordcloud(data, title):\n",
    "    text = ' '.join(data['review'].astype(str).tolist())\n",
    "    stopwords = set(wordcloud.STOPWORDS)\n",
    "    \n",
    "    fig_wordcloud = wordcloud.WordCloud(stopwords=stopwords,\n",
    "        max_font_size=100, max_words=100, background_color=\"white\").generate(text)\n",
    "    \n",
    "    plt.figure(figsize=(10,7), frameon=True)\n",
    "    plt.imshow(fig_wordcloud, interpolation=\"bilinear\")  \n",
    "    plt.axis('off')\n",
    "    plt.title(title, fontsize=20)\n",
    "    plt.show()"
   ]
  },
  {
   "cell_type": "code",
   "execution_count": null,
   "id": "0edb6b0a",
   "metadata": {
    "id": "0edb6b0a",
    "outputId": "e89a115a-594f-4a80-b979-4c819390d4e6"
   },
   "outputs": [
    {
     "data": {
      "image/png": "[encoded data removed]",
      "text/plain": [
       "<Figure size 720x504 with 1 Axes>"
      ]
     },
     "metadata": {
      "needs_background": "light"
     },
     "output_type": "display_data"
    }
   ],
   "source": [
    "review_sample = df.sample(n=500000, random_state = 1)\n",
    "show_wordcloud(review_sample, \"Reviews\")"
   ]
  },
  {
   "cell_type": "markdown",
   "id": "93f8d721",
   "metadata": {
    "id": "93f8d721"
   },
   "source": [
    "As one would expect from Google reviews, the most used words revolve around food and restaurants. This wordcloud is also used to identify common words which do not have any meaning for the subsequent sentiment analysis, so they can be added to our stopword list (see Appendix for the list and section 3.2 for the sentiment analysis)."
   ]
  },
  {
   "cell_type": "markdown",
   "id": "d5f9d8df",
   "metadata": {
    "id": "d5f9d8df"
   },
   "source": [
    "<a id='enrichment'></a>\n",
    "## 3. Enrichment of the data"
   ]
  },
  {
   "cell_type": "markdown",
   "id": "2f2c667f",
   "metadata": {
    "id": "2f2c667f"
   },
   "source": [
    "In the following, we aim to gain a multitude of insights about the user, primarily through analyses of his or her written reviews. To make our analyses as tangible as possible, we also provide examples and visualizations throughout."
   ]
  },
  {
   "cell_type": "markdown",
   "id": "08364cbe",
   "metadata": {
    "id": "08364cbe"
   },
   "source": [
    "<a id='length'></a>\n",
    "### 3.1 Length of Reviews"
   ]
  },
  {
   "cell_type": "markdown",
   "id": "40852261",
   "metadata": {
    "id": "40852261"
   },
   "source": [
    "As a first analysis, we are interested in how long the reviews are. We therefore add two columns which contain the number of characters and the number of words of each review."
   ]
  },
  {
   "cell_type": "code",
   "execution_count": null,
   "id": "267a9e3f",
   "metadata": {
    "id": "267a9e3f",
    "outputId": "cf458ba7-439f-4696-d9fe-ed7aa207ef92"
   },
   "outputs": [
    {
     "data": {
      "text/html": [
       "<div>\n",
       "<style scoped>\n",
       "    .dataframe tbody tr th:only-of-type {\n",
       "        vertical-align: middle;\n",
       "    }\n",
       "\n",
       "    .dataframe tbody tr th {\n",
       "        vertical-align: top;\n",
       "    }\n",
       "\n",
       "    .dataframe thead th {\n",
       "        text-align: right;\n",
       "    }\n",
       "</style>\n",
       "<table border=\"1\" class=\"dataframe\">\n",
       "  <thead>\n",
       "    <tr style=\"text-align: right;\">\n",
       "      <th></th>\n",
       "      <th>placeID</th>\n",
       "      <th>name</th>\n",
       "      <th>lat</th>\n",
       "      <th>long</th>\n",
       "      <th>address</th>\n",
       "      <th>price_clean</th>\n",
       "      <th>country</th>\n",
       "      <th>state</th>\n",
       "      <th>username</th>\n",
       "      <th>userID</th>\n",
       "      <th>...</th>\n",
       "      <th>lang</th>\n",
       "      <th>currentPlace</th>\n",
       "      <th>education</th>\n",
       "      <th>jobs</th>\n",
       "      <th>previousPlaces</th>\n",
       "      <th>category</th>\n",
       "      <th>category1</th>\n",
       "      <th>count</th>\n",
       "      <th>review_length (characters)</th>\n",
       "      <th>review_length (words)</th>\n",
       "    </tr>\n",
       "  </thead>\n",
       "  <tbody>\n",
       "    <tr>\n",
       "      <th>0</th>\n",
       "      <td>104699454385822125632</td>\n",
       "      <td>Diamond Valley Lake Marina</td>\n",
       "      <td>33.703804</td>\n",
       "      <td>-117.003209</td>\n",
       "      <td>2615 Angler AveHemet, CA 92545</td>\n",
       "      <td>NaN</td>\n",
       "      <td>US</td>\n",
       "      <td>CA</td>\n",
       "      <td>Keith Willems</td>\n",
       "      <td>109283356541834506464</td>\n",
       "      <td>...</td>\n",
       "      <td>en</td>\n",
       "      <td>['Valle Vista, CA, United States', [[], 337477...</td>\n",
       "      <td>[[[], [], [], [], [], 6], [['Southern Californ...</td>\n",
       "      <td>[['mt plaza mail and ship', 'shipper', [[1, 1,...</td>\n",
       "      <td>[]</td>\n",
       "      <td>['Marina', 'Recreation', 'Fishing Lake']</td>\n",
       "      <td>Marina</td>\n",
       "      <td>19</td>\n",
       "      <td>213</td>\n",
       "      <td>40</td>\n",
       "    </tr>\n",
       "    <tr>\n",
       "      <th>1</th>\n",
       "      <td>117477090906709658119</td>\n",
       "      <td>Pins &amp; Needles Pro Shop</td>\n",
       "      <td>33.747513</td>\n",
       "      <td>-116.998209</td>\n",
       "      <td>2850 W Florida AveHemet, CA 92545</td>\n",
       "      <td>NaN</td>\n",
       "      <td>US</td>\n",
       "      <td>CA</td>\n",
       "      <td>Keith Willems</td>\n",
       "      <td>109283356541834506464</td>\n",
       "      <td>...</td>\n",
       "      <td>en</td>\n",
       "      <td>['Valle Vista, CA, United States', [[], 337477...</td>\n",
       "      <td>[[[], [], [], [], [], 6], [['Southern Californ...</td>\n",
       "      <td>[['mt plaza mail and ship', 'shipper', [[1, 1,...</td>\n",
       "      <td>[]</td>\n",
       "      <td>['Bowling Supply Shop']</td>\n",
       "      <td>Bowling Supply Shop</td>\n",
       "      <td>19</td>\n",
       "      <td>142</td>\n",
       "      <td>30</td>\n",
       "    </tr>\n",
       "  </tbody>\n",
       "</table>\n",
       "<p>2 rows × 24 columns</p>\n",
       "</div>"
      ],
      "text/plain": [
       "                 placeID                        name        lat        long  \\\n",
       "0  104699454385822125632  Diamond Valley Lake Marina  33.703804 -117.003209   \n",
       "1  117477090906709658119     Pins & Needles Pro Shop  33.747513 -116.998209   \n",
       "\n",
       "                             address  price_clean country state  \\\n",
       "0     2615 Angler AveHemet, CA 92545          NaN      US    CA   \n",
       "1  2850 W Florida AveHemet, CA 92545          NaN      US    CA   \n",
       "\n",
       "        username                 userID  ...  lang  \\\n",
       "0  Keith Willems  109283356541834506464  ...    en   \n",
       "1  Keith Willems  109283356541834506464  ...    en   \n",
       "\n",
       "                                        currentPlace  \\\n",
       "0  ['Valle Vista, CA, United States', [[], 337477...   \n",
       "1  ['Valle Vista, CA, United States', [[], 337477...   \n",
       "\n",
       "                                           education  \\\n",
       "0  [[[], [], [], [], [], 6], [['Southern Californ...   \n",
       "1  [[[], [], [], [], [], 6], [['Southern Californ...   \n",
       "\n",
       "                                                jobs previousPlaces  \\\n",
       "0  [['mt plaza mail and ship', 'shipper', [[1, 1,...             []   \n",
       "1  [['mt plaza mail and ship', 'shipper', [[1, 1,...             []   \n",
       "\n",
       "                                   category            category1 count  \\\n",
       "0  ['Marina', 'Recreation', 'Fishing Lake']               Marina    19   \n",
       "1                   ['Bowling Supply Shop']  Bowling Supply Shop    19   \n",
       "\n",
       "  review_length (characters) review_length (words)  \n",
       "0                        213                    40  \n",
       "1                        142                    30  \n",
       "\n",
       "[2 rows x 24 columns]"
      ]
     },
     "execution_count": 17,
     "metadata": {},
     "output_type": "execute_result"
    }
   ],
   "source": [
    "#length in characters (excluding whitespace)\n",
    "df['review_length (characters)'] = df['review'].apply(lambda x: (len(x) - x.count(\" \")))\n",
    "#length in words\n",
    "df['review_length (words)'] = df['review'].apply(lambda x: len(x.split()))\n",
    "df.head(2)"
   ]
  },
  {
   "cell_type": "code",
   "execution_count": null,
   "id": "30d90fc5",
   "metadata": {
    "id": "30d90fc5",
    "outputId": "5aa2b096-b9f7-4050-b622-9eac2aa71ad0"
   },
   "outputs": [
    {
     "name": "stdout",
     "output_type": "stream",
     "text": [
      "The longest review has 3403 characters and 820 words.\n",
      "The shortest review has 1 character and 1 word.\n"
     ]
    }
   ],
   "source": [
    "#longest and shortest review\n",
    "print('The longest review has %d characters and %d words.' % (df['review_length (characters)'].max(),\\\n",
    "                                                              df['review_length (words)'].max()))\n",
    "print('The shortest review has %d character and %d word.' % (df['review_length (characters)'].min(),\\\n",
    "                                                              df['review_length (words)'].min()))"
   ]
  },
  {
   "cell_type": "code",
   "execution_count": null,
   "id": "551b5b3b",
   "metadata": {
    "id": "551b5b3b",
    "outputId": "a7dbc57b-3a50-4582-af8b-cad9edc1a92c"
   },
   "outputs": [
    {
     "data": {
      "text/plain": [
       "632547    C\n",
       "724332    C\n",
       "Name: review, dtype: object"
      ]
     },
     "execution_count": 41,
     "metadata": {},
     "output_type": "execute_result"
    }
   ],
   "source": [
    "#checking for the shortest review\n",
    "df.loc[df['review_length (characters)'] ==1]['review']"
   ]
  },
  {
   "cell_type": "markdown",
   "id": "6b1a6c43",
   "metadata": {
    "id": "6b1a6c43"
   },
   "source": [
    "The longest review is 3403 characters or 820 words long. One could assume that this is an outlier, but checking manually revealed that this is not the case here. However, there are two reviews with just one letter (\"C\"), which will be excluded from the further analysis, as no value can be extracted from them."
   ]
  },
  {
   "cell_type": "code",
   "execution_count": null,
   "id": "49e0767d",
   "metadata": {
    "id": "49e0767d",
    "outputId": "bf4bca56-6f82-4394-d125-665ac4aa3946"
   },
   "outputs": [
    {
     "data": {
      "text/plain": [
       "(1610139, 24)"
      ]
     },
     "execution_count": 43,
     "metadata": {},
     "output_type": "execute_result"
    }
   ],
   "source": [
    "df = df.loc[df['review_length (characters)'] > 1]\n",
    "df.shape"
   ]
  },
  {
   "cell_type": "markdown",
   "id": "8e69e593",
   "metadata": {
    "id": "8e69e593"
   },
   "source": [
    "**Visualizing review lenghts:** The figure below shows two histograms: To the left, the full distribution of review lengths is shown, and we can recognize  a peak of shorter reviews, as well as a long tail of few very long reviews. \n",
    "To the right side of the figure, a zoom-in shows that the bulk of reviews is about 50 characters long. It is important to note that the two histograms each use a different number of bins, which is adapted to the size of the underlying distributions. Therefore, there are differences in their appearance."
   ]
  },
  {
   "cell_type": "code",
   "execution_count": null,
   "id": "7076221b",
   "metadata": {
    "id": "7076221b"
   },
   "outputs": [],
   "source": [
    "#filter for shorter reviews to zoom in on the \"peak\" of the distribution\n",
    "shorter_reviews = df.loc[df['review_length (characters)'] <= 400]"
   ]
  },
  {
   "cell_type": "code",
   "execution_count": null,
   "id": "52efee67",
   "metadata": {
    "id": "52efee67",
    "outputId": "ca3df2e9-1c93-407d-9a34-99bee6ea65d1"
   },
   "outputs": [
    {
     "data": {
      "image/png": "[encoded data removed]",
      "text/plain": [
       "<Figure size 1296x432 with 2 Axes>"
      ]
     },
     "metadata": {
      "needs_background": "light"
     },
     "output_type": "display_data"
    }
   ],
   "source": [
    "#histograms for review lengths\n",
    "fig, ax = plt.subplots(nrows = 1, ncols = 2, figsize = (18,6), sharey = True, gridspec_kw = {'width_ratios': [3,1]})\n",
    "\n",
    "#overall distribution\n",
    "ax[0].hist(df['review_length (characters)'], bins = 500)\n",
    "ax[0].set_title('Distribution of Review Lengths')\n",
    "ax[0].set_xlabel('Number of Characters')\n",
    "ax[0].set_ylabel('Occurrences')\n",
    "ax[0].grid()\n",
    "\n",
    "#zoom-in on the \"peak\"\n",
    "ax[1].hist(shorter_reviews['review_length (characters)'], bins = 50)\n",
    "ax[1].set_title('Distribution of Review Lengths (Zoom-In)')\n",
    "ax[1].set_xlabel('Number of Characters')\n",
    "ax[1].set_ylabel('Occurrences')\n",
    "ax[1].grid()\n",
    "\n",
    "fig.tight_layout()\n",
    "fig.show()"
   ]
  },
  {
   "cell_type": "markdown",
   "id": "27e3f8f9",
   "metadata": {
    "id": "27e3f8f9"
   },
   "source": [
    "<a id='sentiment'></a>\n",
    "### 3.2 Sentiment Analysis: Positive, neutral, negative?\n",
    "**What is the purpose?**\n",
    "\n",
    "The goal of this sentiment analysis is to label each review as either positive, neutral or negative. \n",
    "\n",
    "**How does it work?**\n",
    "\n",
    "We use the pre-trained sentiment analyzer from the NLTK package, called \"VADER\" (**V**alence **A**ware **D**ictionary and s**E**ntiment **R**easoner). In essence, VADER builds on a dictionary which maps words and lexical features (such as slang or common acronyms) to so-called valence-scores, which are then aggregated in a \"compound\" score [[1](https://ojs.aaai.org/index.php/ICWSM/article/view/14550/14399)]. If this score is larger than zero, a text's sentiment is positive, if not, it is negative. \n",
    "The VADER sentiment analyzer uses several heuristics, some of which are important to consider when pre-processing the review text [[1](https://ojs.aaai.org/index.php/ICWSM/article/view/14550/14399)]:  \n",
    "1. **Punctuation** has an impact on the sentiment scores. These are first and foremost exclamation marks: \"*the food is great!!*\" gets a higher score than \"*the food is great*\". Therefore, exclamation marks are specifically not excluded during text pre-processing. We also found that question marks alter the score, so these also remain in the text.\n",
    "2. **Capitalization** is relevant, especially in cases where words are fully capitalized: \"*the food is GREAT*\" scores higher  than \"*the food is great*\". Therefore, the common step of converting everything to lowercase during text pre-processing is explicitly skipped here. Further, we are building on the predefined stopword list from NLTK to remove common words without \"value\" from the text and speed up the computations. However, the importance of capitalization also means that we need to enrich this lower case stopword list with capitalized versions of the stopwords. \n",
    "3. **Negation** is recognized by the algorithm, in a sense that the polarity of the text is flipped (\"*the food isn't great*\" gets a negative score, as opposed to the affirmed version of the sentence. Therefore, we exclude all verbs with negations (such as \"*isn't* from NLTK's stopword list).\n",
    "4. **The word \"*but*\"** is recognized to change the sentiment of a sentence. For instance, the phrase \"*the food is great but the service is terrible*\" gets an overall negative score, because the second part of the sentence determines the overall meaning. Therefore, the word \"*but*\" is explicitly removed from the stopword list.\n",
    "\n",
    "A final interesting heuristic of VADER is that \"degree modifiers\" are also taken into account - for instance, \"*the food is extremely great* scores higher than \"*the food is great*\". This feature combined with the aforementioned ones provided a convincing argument to use this package on our Google reviews.\n",
    "\n",
    "VADER is set to yield better results when it is not applied on a longer text, but individual sentences [[2](https://realpython.com/python-nltk-sentiment-analysis/)]. We therefore also do not remove the dot during text pre-processing, and tokenize individual sentences. We then compute an individual compound score for each sentence, and then calculate the mean to get the overall sentiment of the review.\n",
    "\n",
    "**What are possible shortcomings?**\n",
    "The greatest shortcoming in our case does not lie within the VADER algorithm itself, but the question of when a review should reasonably be labelled as \"neutral\". Since the sentiment score of a review is the mean of the individual scores of each sentence in it, the overall score rarely ends up to be precisely 0. We therefore checked three combinations of sentences which should overall be regarded as \"neutral\":"
   ]
  },
  {
   "cell_type": "code",
   "execution_count": null,
   "id": "ca41bc9b",
   "metadata": {
    "id": "ca41bc9b",
    "outputId": "99fad64e-5438-4ff6-c252-b5b54d2e6b25"
   },
   "outputs": [
    {
     "name": "stdout",
     "output_type": "stream",
     "text": [
      "Text 1: this is good. this is bad. -0.050949999999999995\n",
      "Text 2: love. hate. 0.03250000000000003\n",
      "Text 3: great. terrible. 0.0741\n"
     ]
    }
   ],
   "source": [
    "text1 = \"this is good. this is bad.\"\n",
    "text2 = \"love. hate.\"\n",
    "text3 = \"great. terrible.\"\n",
    "texts = [text1, text2, text3]\n",
    "\n",
    "sia = SentimentIntensityAnalyzer()\n",
    "\n",
    "for idx, text in enumerate(texts):\n",
    "    scores = [sia.polarity_scores(sentence)[\"compound\"] for sentence in nltk.sent_tokenize(text)]\n",
    "    print('Text %d:' % (idx+1), text, np.mean(scores))"
   ]
  },
  {
   "cell_type": "markdown",
   "id": "ee456391",
   "metadata": {
    "id": "ee456391"
   },
   "source": [
    "Based on this, we decided to label a review as neutral if tis compound score falls between 0.08 and -0.08. This choice is certainly not perfect, but it is regarded as a a reasonable starting point.\n",
    "As mentioned above, we exclude a range of stopwords which have no meaning for the sentiment analysis from the reviews. They also include popular words as seen in the wordloud, such as \"restaurant\". The list can be found in the appendix, and below we are verifying that these stopwords do not have any polarity:"
   ]
  },
  {
   "cell_type": "code",
   "execution_count": null,
   "id": "2ea9a8be",
   "metadata": {
    "id": "2ea9a8be",
    "outputId": "f422870b-e4ec-4581-87e7-388c3745c8d9"
   },
   "outputs": [
    {
     "name": "stdout",
     "output_type": "stream",
     "text": [
      "The polarity of the stopwords is 0.00\n"
     ]
    }
   ],
   "source": [
    "#check the polarity sum of the stopwords - must be zero\n",
    "stopword_scores = []\n",
    "for word in refined_stopwords:\n",
    "    score = sia.polarity_scores(word)['compound']\n",
    "    stopword_scores.append(score)\n",
    "print('The polarity of the stopwords is %.2f' % sum(stopword_scores))"
   ]
  },
  {
   "cell_type": "code",
   "execution_count": null,
   "id": "72062e18",
   "metadata": {
    "id": "72062e18"
   },
   "outputs": [],
   "source": [
    "#function for pre-processing the review text - partly inspired by Lecture 2 (\"Text Analysis - Part 1 - Spam Classification\")\n",
    "def text_processing(text):\n",
    "   \n",
    "    #remove predefined punctuation -- keep exclamation and question marks, as well as dots\n",
    "    #keep also apostrophes, so that negated words (e.g. \"isn't\") are properly recognized\n",
    "    refined_punctuation = [character.replace('!', '') for character in punctuation]\n",
    "    refined_punctuation = [character.replace('?', '') for character in punctuation]\n",
    "    refined_punctuation = [character.replace(\"'\", '') for character in punctuation]\n",
    "    refined_punctuation = [character.replace(\".\", '') for character in punctuation]\n",
    "    text = \"\".join([c for c in text if c not in refined_punctuation])\n",
    "\n",
    "    #remove stopwords\n",
    "    text = \" \".join([w for w in text.split() if w not in refined_stopwords])\n",
    "    \n",
    "    #remove any numbers\n",
    "    text = \"\".join(c for c in text if not c.isdigit())\n",
    "\n",
    "    #remove any leading and trailing whitespace\n",
    "    text = text.strip()\n",
    "    \n",
    "    return text"
   ]
  },
  {
   "cell_type": "code",
   "execution_count": null,
   "id": "4aca7465",
   "metadata": {
    "id": "4aca7465"
   },
   "outputs": [],
   "source": [
    "#apply text preprocessing\n",
    "df['review_clean'] = df['review'].apply(lambda x: text_processing(x))"
   ]
  },
  {
   "cell_type": "markdown",
   "id": "54531d67",
   "metadata": {
    "id": "54531d67"
   },
   "source": [
    "Below, we define the function to calculate the sentiments and run it on the dataset."
   ]
  },
  {
   "cell_type": "code",
   "execution_count": null,
   "id": "b390eca2",
   "metadata": {
    "id": "b390eca2"
   },
   "outputs": [],
   "source": [
    "#function to add the sentiment score of each review\n",
    "sia = SentimentIntensityAnalyzer()\n",
    "\n",
    "def sentiment_analysis(x):\n",
    "    neutral_threshold = 0.08\n",
    "    sentiment_scores = [sia.polarity_scores(sentence)['compound'] for sentence in nltk.sent_tokenize(x)]\n",
    "    if np.mean(sentiment_scores) > neutral_threshold:\n",
    "        return 'sia positive'\n",
    "    elif np.mean(sentiment_scores) >= -neutral_threshold:\n",
    "        return 'sia neutral'\n",
    "    else:\n",
    "        return 'sia negative'"
   ]
  },
  {
   "cell_type": "code",
   "execution_count": null,
   "id": "4af35d42",
   "metadata": {
    "id": "4af35d42",
    "outputId": "8e17a328-cc4a-40c9-f62b-02988d4ef820"
   },
   "outputs": [
    {
     "data": {
      "text/html": [
       "<div>\n",
       "<style scoped>\n",
       "    .dataframe tbody tr th:only-of-type {\n",
       "        vertical-align: middle;\n",
       "    }\n",
       "\n",
       "    .dataframe tbody tr th {\n",
       "        vertical-align: top;\n",
       "    }\n",
       "\n",
       "    .dataframe thead th {\n",
       "        text-align: right;\n",
       "    }\n",
       "</style>\n",
       "<table border=\"1\" class=\"dataframe\">\n",
       "  <thead>\n",
       "    <tr style=\"text-align: right;\">\n",
       "      <th></th>\n",
       "      <th>placeID</th>\n",
       "      <th>name</th>\n",
       "      <th>lat</th>\n",
       "      <th>long</th>\n",
       "      <th>address</th>\n",
       "      <th>price_clean</th>\n",
       "      <th>country</th>\n",
       "      <th>state</th>\n",
       "      <th>username</th>\n",
       "      <th>userID</th>\n",
       "      <th>...</th>\n",
       "      <th>education</th>\n",
       "      <th>jobs</th>\n",
       "      <th>previousPlaces</th>\n",
       "      <th>category</th>\n",
       "      <th>category1</th>\n",
       "      <th>count</th>\n",
       "      <th>review_length (characters)</th>\n",
       "      <th>review_length (words)</th>\n",
       "      <th>review_clean</th>\n",
       "      <th>sentiment</th>\n",
       "    </tr>\n",
       "  </thead>\n",
       "  <tbody>\n",
       "    <tr>\n",
       "      <th>0</th>\n",
       "      <td>104699454385822125632</td>\n",
       "      <td>Diamond Valley Lake Marina</td>\n",
       "      <td>33.703804</td>\n",
       "      <td>-117.003209</td>\n",
       "      <td>2615 Angler AveHemet, CA 92545</td>\n",
       "      <td>NaN</td>\n",
       "      <td>US</td>\n",
       "      <td>CA</td>\n",
       "      <td>Keith Willems</td>\n",
       "      <td>109283356541834506464</td>\n",
       "      <td>...</td>\n",
       "      <td>[[[], [], [], [], [], 6], [['Southern California Military Academy', 'military', [[1, 1, 1980], [...</td>\n",
       "      <td>[['mt plaza mail and ship', 'shipper', [[1, 1, 2013], [1, 1, 2013], 1], '', '']]</td>\n",
       "      <td>[]</td>\n",
       "      <td>['Marina', 'Recreation', 'Fishing Lake']</td>\n",
       "      <td>Marina</td>\n",
       "      <td>19</td>\n",
       "      <td>213</td>\n",
       "      <td>40</td>\n",
       "      <td>fishing th July. Fishing action good...but restrooms lake were disgust ing...I times year someth...</td>\n",
       "      <td>sia negative</td>\n",
       "    </tr>\n",
       "    <tr>\n",
       "      <th>1</th>\n",
       "      <td>117477090906709658119</td>\n",
       "      <td>Pins &amp; Needles Pro Shop</td>\n",
       "      <td>33.747513</td>\n",
       "      <td>-116.998209</td>\n",
       "      <td>2850 W Florida AveHemet, CA 92545</td>\n",
       "      <td>NaN</td>\n",
       "      <td>US</td>\n",
       "      <td>CA</td>\n",
       "      <td>Keith Willems</td>\n",
       "      <td>109283356541834506464</td>\n",
       "      <td>...</td>\n",
       "      <td>[[[], [], [], [], [], 6], [['Southern California Military Academy', 'military', [[1, 1, 1980], [...</td>\n",
       "      <td>[['mt plaza mail and ship', 'shipper', [[1, 1, 2013], [1, 1, 2013], 1], '', '']]</td>\n",
       "      <td>[]</td>\n",
       "      <td>['Bowling Supply Shop']</td>\n",
       "      <td>Bowling Supply Shop</td>\n",
       "      <td>19</td>\n",
       "      <td>142</td>\n",
       "      <td>30</td>\n",
       "      <td>ball drilled. Excellent service. Joel very attentive individual needs. Best fitting ball long ti...</td>\n",
       "      <td>sia positive</td>\n",
       "    </tr>\n",
       "  </tbody>\n",
       "</table>\n",
       "<p>2 rows × 26 columns</p>\n",
       "</div>"
      ],
      "text/plain": [
       "                 placeID                        name        lat        long  \\\n",
       "0  104699454385822125632  Diamond Valley Lake Marina  33.703804 -117.003209   \n",
       "1  117477090906709658119     Pins & Needles Pro Shop  33.747513 -116.998209   \n",
       "\n",
       "                             address  price_clean country state  \\\n",
       "0     2615 Angler AveHemet, CA 92545          NaN      US    CA   \n",
       "1  2850 W Florida AveHemet, CA 92545          NaN      US    CA   \n",
       "\n",
       "        username                 userID  ...  \\\n",
       "0  Keith Willems  109283356541834506464  ...   \n",
       "1  Keith Willems  109283356541834506464  ...   \n",
       "\n",
       "                                                                                             education  \\\n",
       "0  [[[], [], [], [], [], 6], [['Southern California Military Academy', 'military', [[1, 1, 1980], [...   \n",
       "1  [[[], [], [], [], [], 6], [['Southern California Military Academy', 'military', [[1, 1, 1980], [...   \n",
       "\n",
       "                                                                               jobs  \\\n",
       "0  [['mt plaza mail and ship', 'shipper', [[1, 1, 2013], [1, 1, 2013], 1], '', '']]   \n",
       "1  [['mt plaza mail and ship', 'shipper', [[1, 1, 2013], [1, 1, 2013], 1], '', '']]   \n",
       "\n",
       "  previousPlaces                                  category  \\\n",
       "0             []  ['Marina', 'Recreation', 'Fishing Lake']   \n",
       "1             []                   ['Bowling Supply Shop']   \n",
       "\n",
       "             category1 count review_length (characters) review_length (words)  \\\n",
       "0               Marina    19                        213                    40   \n",
       "1  Bowling Supply Shop    19                        142                    30   \n",
       "\n",
       "                                                                                          review_clean  \\\n",
       "0  fishing th July. Fishing action good...but restrooms lake were disgust ing...I times year someth...   \n",
       "1  ball drilled. Excellent service. Joel very attentive individual needs. Best fitting ball long ti...   \n",
       "\n",
       "      sentiment  \n",
       "0  sia negative  \n",
       "1  sia positive  \n",
       "\n",
       "[2 rows x 26 columns]"
      ]
     },
     "execution_count": 79,
     "metadata": {},
     "output_type": "execute_result"
    }
   ],
   "source": [
    "#apply sentiment analysis\n",
    "df['sentiment'] = df['review_clean'].apply(lambda x: sentiment_analysis(x))\n",
    "df.head(2)"
   ]
  },
  {
   "cell_type": "markdown",
   "id": "60969bc1",
   "metadata": {
    "id": "60969bc1"
   },
   "source": [
    "Visualizations and further analyses regarding the sentiments can be found in section 4."
   ]
  },
  {
   "cell_type": "markdown",
   "id": "acfea130",
   "metadata": {
    "id": "acfea130"
   },
   "source": [
    "<a id='emotionality'></a>\n",
    "### 3.3 Emotionality Analysis\n",
    "\n",
    "**What is the purpose?**\n",
    "\n",
    "Having labelled each review as positive, neutral or negative, we now wish to become more nuanced and extract specific emotions from the reviews. This can be used to gain more information about the reviewer.\n",
    "\n",
    "**How does it work?**\n",
    "\n",
    "We use the NRC Word-Emotion Association Lexicon (\"NRCLex\"). This is a dictionary containing emotion associations for a wide range of English words. Words can be associated with one or more of eight \"basic\" emotions: Fear, anger, anticipation, trust, joy, sadness, disgust and surprise. Further, the sentiments \"positive\" and \"negative\" are also connected to the words. The dictionary was created using a crowdsourcing approach via Amazon's Mechanical Turk. [[3](http://saifmohammad.com/WebPages/NRC-Emotion-Lexicon.htm)]\n",
    "\n",
    "Further details on this appproach can be found in the [original paper](https://arxiv.org/pdf/1308.6297.pdf), and an interactive visualization of the words and associated emotions is accessible [here](https://arxiv.org/pdf/1308.6297.pdf).\n",
    "\n",
    "To make this lexicon applicable for our purposes, we now need to convert all reviews to lowercase so matches can be found with the dictionary. All punctuation is removed except apostrophes, to maintain the original words. For computational efficiency, we again remove numbers and stopwords, but this time we only use the predefined stopwords from NLTK, since some of the words from our refined stopword list have emotional value (such as \"food\"). Because the algorithm only looks at the words in the given texts and aggregates their emotionality scores, there is no need for tokenization.\n",
    "\n",
    "**What are possible shortcomings?**\n",
    "One important shortcoming is that the algorithm is largely insensitive to context, as it only checks whether the words in the review are associated with any emotionality values. This means that for instance negation is not regognized ([[4](https://arxiv.org/pdf/1308.6297.pdf)]), in contrast to the previously used SentimentIntensityAnalyzer. The insensitivity to context also means that neutral names (such as \"war museum\") can be associated with an emotion. Below, some examples of these issues are provided.\n",
    "\n",
    "Another shortcoming is that some frequent words from the reviews have no correspondence in the dictionary. One example of this is the word \"great\", which is a reasonably prominent word as shown in the wordcloud above."
   ]
  },
  {
   "cell_type": "code",
   "execution_count": null,
   "id": "3c23fa12",
   "metadata": {
    "id": "3c23fa12",
    "outputId": "5f6cc957-b2b7-4f60-f74a-e841cf27c81b"
   },
   "outputs": [
    {
     "name": "stdout",
     "output_type": "stream",
     "text": [
      "Text:  good [('trust', 0.2), ('surprise', 0.2), ('positive', 0.2), ('joy', 0.2), ('anticipation', 0.2)]\n",
      "Text:  not good [('trust', 0.2), ('surprise', 0.2), ('positive', 0.2), ('joy', 0.2), ('anticipation', 0.2)]\n",
      "Text:  can't go wrong [('negative', 1.0)]\n",
      "Text:  war museum [('fear', 0.5), ('negative', 0.5)]\n"
     ]
    }
   ],
   "source": [
    "text1 = 'good'\n",
    "text2 = 'not good'\n",
    "text3 = \"can't go wrong\"\n",
    "text4 = 'war museum'\n",
    "texts = [text1, text2, text3, text4]\n",
    "\n",
    "for text in texts:\n",
    "    emotion = NRCLex(text)\n",
    "    print('Text: ', text, emotion.top_emotions)"
   ]
  },
  {
   "cell_type": "markdown",
   "id": "a1622a7d",
   "metadata": {
    "id": "a1622a7d"
   },
   "source": [
    "Despite these shortcomings, we still chose to go forward with the NRC Emotion Lexicon. This is because on the one hand, it has shown to be one of the most extensive dictionaries for emotion analysis, and provides a good starting point for text analysis without having to resort to supervised learning. On the other hand, our ultimate goal is to gather information about the **reviewers**, and not the reviews themselves. We are therefore less interested in correctly labelling the reviews, but more interested in looking at the **choice of words** from the reviewers. We argue that this analysis in combination with the following readability and profanity checks still allows us to extract a good amount of insights about the users just from their reviews."
   ]
  },
  {
   "cell_type": "code",
   "execution_count": null,
   "id": "dd16738a",
   "metadata": {
    "id": "dd16738a"
   },
   "outputs": [],
   "source": [
    "#function for processing the review text - partly inspired by Lecture 2 (\"Text Analysis - Part 1 - Spam Classification\")\n",
    "def text_processing_emotion(text):    \n",
    "\n",
    "    # lowercase\n",
    "    text = \"\".join([c.lower() for c in text])\n",
    "\n",
    "    #stopwords - we only use the stopword list from NLTK, since some words from our previous enriched list have emotional value\n",
    "    text = \" \".join([w for w in text.split() if w not in stop_words])\n",
    "\n",
    "    # remove punctuation\n",
    "    refined_punctuation_emotions = [character.replace(\"'\",'') for character in punctuation]\n",
    "    text = \"\".join([c for c in text if c not in refined_punctuation_emotions])\n",
    "    \n",
    "    #remove any numbers\n",
    "    text = \"\".join(c for c in text if not c.isdigit())\n",
    "\n",
    "    #remove any leading and trailing whitespace\n",
    "    text = text.strip()\n",
    "    \n",
    "    return text"
   ]
  },
  {
   "cell_type": "code",
   "execution_count": null,
   "id": "07e24306",
   "metadata": {
    "id": "07e24306"
   },
   "outputs": [],
   "source": [
    "#apply pre-processing \n",
    "df['reviews_processed_emotion'] = df['review'].apply(lambda x: text_processing_emotion(x))"
   ]
  },
  {
   "cell_type": "markdown",
   "id": "b5837c59",
   "metadata": {
    "id": "b5837c59"
   },
   "source": [
    "Below, we define the function to calculate the emotionality scores and run it on the dataset."
   ]
  },
  {
   "cell_type": "code",
   "execution_count": null,
   "id": "8841d788",
   "metadata": {
    "id": "8841d788"
   },
   "outputs": [],
   "source": [
    "#function to add the score for each individual emotion and sentiment \n",
    "def emotion_analysis(x, emotion):\n",
    "\n",
    "    emotions = NRCLex(x)\n",
    "    emotion_dict = emotions.affect_frequencies\n",
    "    score = emotion_dict.get(emotion)\n",
    "    \n",
    "    if score:\n",
    "        return score\n",
    "    else: \n",
    "        return 0.0"
   ]
  },
  {
   "cell_type": "code",
   "execution_count": null,
   "id": "5b59aef4",
   "metadata": {
    "id": "5b59aef4"
   },
   "outputs": [],
   "source": [
    "#apply emotionality analysis and create new columns with the emotionality scores of each review\n",
    "df['fear'] = df['reviews_processed_emotion'].apply(lambda x: emotion_analysis(x,'fear'))\n",
    "\n",
    "df['anger'] = df['reviews_processed_emotion'].apply(lambda x: emotion_analysis(x,'anger'))\n",
    "\n",
    "df['anticipation'] = df['reviews_processed_emotion'].apply(lambda x: emotion_analysis(x,'anticipation'))\n",
    "\n",
    "df['trust'] = df['reviews_processed_emotion'].apply(lambda x: emotion_analysis(x,'trust'))\n",
    "\n",
    "df['surprise'] = df['reviews_processed_emotion'].apply(lambda x: emotion_analysis(x,'surprise'))\n",
    "\n",
    "df['sadness'] = df['reviews_processed_emotion'].apply(lambda x: emotion_analysis(x,'sadness'))\n",
    "\n",
    "df['disgust'] = df['reviews_processed_emotion'].apply(lambda x: emotion_analysis(x,'disgust'))\n",
    "\n",
    "df['joy'] = df['reviews_processed_emotion'].apply(lambda x: emotion_analysis(x,'joy'))\n",
    "\n",
    "df['positive (EmoLex)'] = df['reviews_processed_emotion'].apply(lambda x: emotion_analysis(x,'positive'))\n",
    "\n",
    "df['negative (EmoLex)'] = df['reviews_processed_emotion'].apply(lambda x: emotion_analysis(x,'negative'))"
   ]
  },
  {
   "cell_type": "markdown",
   "id": "7a7426ae",
   "metadata": {
    "id": "7a7426ae"
   },
   "source": [
    "Finally, we aggregate the emotions to get the \"total emotionality\" of a review, asadditional information about the user. We also sum positive and negative emotions. A caveat here is that the emotion \"surprise\" is ambivalent and can have both a positive and a negative connotation. Therefore, the sum of negative emotions contains one more element than the sum of positive emotions."
   ]
  },
  {
   "cell_type": "code",
   "execution_count": null,
   "id": "cb72f812",
   "metadata": {
    "id": "cb72f812"
   },
   "outputs": [],
   "source": [
    "#getting the \"total emotionality\" of a review\n",
    "df['emotion_sum'] = df['fear']+df['anger']+df['anticipation']+df['trust']+df['surprise']+df['sadness']+df['disgust']+df['joy']\n",
    "\n",
    "#summing positive and negative emotions\n",
    "df['sum_positive_emotions'] = df['anticipation']+df['trust']+df['joy']\n",
    "df['sum_negative_emotions'] = df['fear']+df['anger']+df['sadness']+df['disgust']"
   ]
  },
  {
   "cell_type": "markdown",
   "id": "203e969e",
   "metadata": {
    "id": "203e969e"
   },
   "source": [
    "Further analyses regarding the emotions together with sentiments can be found in section 4."
   ]
  },
  {
   "cell_type": "markdown",
   "id": "3151df46",
   "metadata": {
    "id": "3151df46"
   },
   "source": [
    "<a id='readability'></a>\n",
    "### 3.4 Readability Analysis\n",
    "**What is the purpose?**\n",
    "We wish to gain insights into how complex a review is written. This will for instance be used later on for making inferences about the reviewer's education.\n",
    "\n",
    "**How does it work?**\n",
    "We use the \"textstat\" library, which offers the feature of adding a school-grade level that is needed to understand the review. For instance, a score of 6.0 would mean that the review can be understood by a 6th-grader. The function \"text_standard\" was chosen, since it aggregates a variety of different reading scores [[5](https://pypi.org/project/textstat/)]. We therefore concluded that this would to provide the most robust estimate. Further, no text-preprocessing was required before using the function. \n",
    "\n",
    "**What are possible shortcomings?**\n",
    "In some cases, the returned readability scores are unreasonably high. This happens for instance when words in a review are misspelled. This is illustrated below, where a misspelled version of the word \"possible\", as found in one of the reviews, is assessed."
   ]
  },
  {
   "cell_type": "code",
   "execution_count": null,
   "id": "7b7eac99",
   "metadata": {
    "id": "7b7eac99",
    "outputId": "968b2210-ef35-4ee8-c37b-857ca8cb989d"
   },
   "outputs": [
    {
     "name": "stdout",
     "output_type": "stream",
     "text": [
      "Misspelled: Grade 20.0\n",
      "Correctly spelled: Grade  1.0\n"
     ]
    }
   ],
   "source": [
    "print('Misspelled version: Grade', ts.text_standard('possibell', float_output = 'True'))\n",
    "print('Correctly spelled version: Grade', ts.text_standard('possible', float_output = 'True'))"
   ]
  },
  {
   "cell_type": "code",
   "execution_count": null,
   "id": "f3c93d39",
   "metadata": {
    "id": "f3c93d39"
   },
   "outputs": [],
   "source": [
    "low_readability_score = df.loc[df['readability'] < 25]\n",
    "high_readability_score = df.loc[df['readability'] >= 25]"
   ]
  },
  {
   "cell_type": "code",
   "execution_count": null,
   "id": "7bd47e02",
   "metadata": {
    "id": "7bd47e02",
    "outputId": "7b527a2e-1206-41b4-f05a-c381a6277e82"
   },
   "outputs": [
    {
     "name": "stdout",
     "output_type": "stream",
     "text": [
      "Number of 'reasonable' readability reviews 1608451\n"
     ]
    }
   ],
   "source": [
    "print(\"Number of 'reasonable' readability reviews:\", len(low_readability_score['readability']))"
   ]
  },
  {
   "cell_type": "code",
   "execution_count": null,
   "id": "b82c6b3d",
   "metadata": {
    "id": "b82c6b3d",
    "outputId": "dca9647a-1f95-43be-bf83-d7e97ab70b85"
   },
   "outputs": [
    {
     "name": "stdout",
     "output_type": "stream",
     "text": [
      "Number of 'very hard' readability reviews: 1688\n"
     ]
    }
   ],
   "source": [
    "print(\"Number of 'very hard' readability reviews:\", len(high_readability_score['readability']))"
   ]
  },
  {
   "cell_type": "markdown",
   "id": "83c9f943",
   "metadata": {
    "id": "83c9f943"
   },
   "source": [
    "Even though it would have been possible to use autocorrect functions on the text, it was decided to not use these. This is because when words are misspelled, this also tells us something about the reader. A high readability score may thereby not correpond to a complex sentence, but poorly used language. Also, the fraction of unreasonably high readabillity scores is overall low."
   ]
  },
  {
   "cell_type": "markdown",
   "id": "cd6eed21",
   "metadata": {
    "id": "cd6eed21"
   },
   "source": [
    "Below, we define the function to calculate the readability score and run it on the dataset."
   ]
  },
  {
   "cell_type": "code",
   "execution_count": null,
   "id": "dd318c0f",
   "metadata": {
    "id": "dd318c0f"
   },
   "outputs": [],
   "source": [
    "#function for readability score\n",
    "def readability_score(x):\n",
    "    score = ts.text_standard(x, float_output = True)\n",
    "    return score"
   ]
  },
  {
   "cell_type": "code",
   "execution_count": null,
   "id": "b7f3fcc0",
   "metadata": {
    "id": "b7f3fcc0"
   },
   "outputs": [],
   "source": [
    "#apply readability function\n",
    "df['readability'] = df['review'].apply(lambda x: readability_score(x))"
   ]
  },
  {
   "cell_type": "markdown",
   "id": "bf20fc67",
   "metadata": {
    "id": "bf20fc67"
   },
   "source": [
    "<a id='profanity'></a>\n",
    "### 3.5 Profanity/Swearwords\n",
    "\n",
    "**What is the purpose?** As a final tool for text analysis, we assess the use of profanity/swearwords in the text. This is also used later to make prediction about a reviewer's education, as well as gender. An interesting question here is for instance whether men swear more than women.\n",
    "\n",
    "**How does it work?** We use the \"Alt-profanity-check\" package, which enables checking for offensive language in text. Contrary to for instance the previously used NRCLex, it does not rely on a dictionary to match swearwords, but uses an underlying machine learning model on around 200.000 samples labelled by human readers [[6](https://pypi.org/project/alt-profanity-check/)]. As such, it is much more robust to variations in language, and also does not require pre-processing of the text. For each review, we return a score between 0 and 1, which indicates the probability of the review being offensive (1 = offensive).\n",
    "\n",
    "**What are possible shortcomings?** Like all applications for text analysis, this package also does not recognize everything perfectly. For instance, variations of swearwords that are less common will not be picked up by the algorithm (like \"f4ck you\") [[6](https://pypi.org/project/alt-profanity-check/)]. However, we still deemed this algorithm to be useful, as we do not expect these variations to be very common in the reviews."
   ]
  },
  {
   "cell_type": "code",
   "execution_count": null,
   "id": "f8db26b5",
   "metadata": {
    "id": "f8db26b5",
    "outputId": "d6e8737f-600f-4c80-b072-a23f48705548"
   },
   "outputs": [
    {
     "name": "stdout",
     "output_type": "stream",
     "text": [
      "Have a nice day!: 0.06796895633926123\n",
      "Go to hell!: 0.9800927720526497\n"
     ]
    }
   ],
   "source": [
    "#to give just two examples of the profanity check\n",
    "print('Have a nice day!:', predict_prob(['Have a nice day!'])[0])\n",
    "print('Go to hell!:', predict_prob(['Go to hell!'])[0])"
   ]
  },
  {
   "cell_type": "markdown",
   "id": "caa8f69b",
   "metadata": {
    "id": "caa8f69b"
   },
   "source": [
    "Below, we define the function to calculate the profanity score and run it on the dataset."
   ]
  },
  {
   "cell_type": "code",
   "execution_count": null,
   "id": "1992a178",
   "metadata": {
    "id": "1992a178"
   },
   "outputs": [],
   "source": [
    "#function for profanity score\n",
    "def profanity(x):\n",
    "    profanity_value = predict_prob([x])\n",
    "    return profanity_value[0]"
   ]
  },
  {
   "cell_type": "code",
   "execution_count": null,
   "id": "b77831b9",
   "metadata": {
    "id": "b77831b9"
   },
   "outputs": [],
   "source": [
    "#apply profanity function\n",
    "df['profanity_value'] = df['review'].apply(lambda x: profanity(x))"
   ]
  },
  {
   "cell_type": "markdown",
   "id": "8522b8e4",
   "metadata": {
    "id": "8522b8e4"
   },
   "source": [
    "<a id='gender'></a>\n",
    "### 3.6 Adding Gender Information\n",
    "\n",
    "Next, we try to add the information whether the reviewer is male or female. To do this, we add an external dataset from the US Social Security Administration [[7](https://www.ssa.gov/oact/babynames/limits.html)] containing the most popular baby names in the US in the year 1985. Since most of our reviews were written around 2010, we argue that the names of the reviewers match the birth names reasonably well, assuming that many reviewers are in their late twenties.\n",
    "\n",
    "First, we need to extract the reviewers' first name, and then convert it to lowercase for uniformity."
   ]
  },
  {
   "cell_type": "code",
   "execution_count": null,
   "id": "bd2ebf52",
   "metadata": {
    "id": "bd2ebf52"
   },
   "outputs": [],
   "source": [
    "#function to get the first name from every reviewer, in lowercase\n",
    "def firstname(x):\n",
    "    name = x.split()[0]\n",
    "    #put all first names in lowercase\n",
    "    name = name.lower()\n",
    "    return name"
   ]
  },
  {
   "cell_type": "code",
   "execution_count": null,
   "id": "23afef39",
   "metadata": {
    "id": "23afef39"
   },
   "outputs": [],
   "source": [
    "#apply function for finding the first name\n",
    "df['name'] = df['username'].apply(lambda x: firstname(x))"
   ]
  },
  {
   "cell_type": "markdown",
   "id": "370f7ce7",
   "metadata": {
    "id": "370f7ce7"
   },
   "source": [
    "Below, we read in the name data:"
   ]
  },
  {
   "cell_type": "code",
   "execution_count": null,
   "id": "fe9ca3c5",
   "metadata": {
    "id": "fe9ca3c5",
    "outputId": "141d5bc3-a2ea-4765-a497-5275f4565150"
   },
   "outputs": [
    {
     "data": {
      "text/html": [
       "<div>\n",
       "<style scoped>\n",
       "    .dataframe tbody tr th:only-of-type {\n",
       "        vertical-align: middle;\n",
       "    }\n",
       "\n",
       "    .dataframe tbody tr th {\n",
       "        vertical-align: top;\n",
       "    }\n",
       "\n",
       "    .dataframe thead th {\n",
       "        text-align: right;\n",
       "    }\n",
       "</style>\n",
       "<table border=\"1\" class=\"dataframe\">\n",
       "  <thead>\n",
       "    <tr style=\"text-align: right;\">\n",
       "      <th></th>\n",
       "      <th>name</th>\n",
       "      <th>gender</th>\n",
       "      <th>count</th>\n",
       "    </tr>\n",
       "  </thead>\n",
       "  <tbody>\n",
       "    <tr>\n",
       "      <th>0</th>\n",
       "      <td>Jessica</td>\n",
       "      <td>F</td>\n",
       "      <td>48347</td>\n",
       "    </tr>\n",
       "    <tr>\n",
       "      <th>1</th>\n",
       "      <td>Ashley</td>\n",
       "      <td>F</td>\n",
       "      <td>47006</td>\n",
       "    </tr>\n",
       "  </tbody>\n",
       "</table>\n",
       "</div>"
      ],
      "text/plain": [
       "      name gender  count\n",
       "0  Jessica      F  48347\n",
       "1   Ashley      F  47006"
      ]
     },
     "execution_count": 170,
     "metadata": {},
     "output_type": "execute_result"
    }
   ],
   "source": [
    "#read in data that contains popular names for males and females in the US\n",
    "us_names = pd.read_table('yob1985.txt', delimiter = ',', names = ['name','gender','count'])\n",
    "us_names.head(2)"
   ]
  },
  {
   "cell_type": "markdown",
   "id": "b2045b6e",
   "metadata": {
    "id": "b2045b6e"
   },
   "source": [
    "Occasionally, the same name was given to birth girls and boys. We solved this situation by sorting all names according to popularity, and then dropping name duplicates such that the more popular name is kept. Thereby, if the same name was given more often to girls than boys, we would label this name as \"female\". This is of course not entirely accurate, but we deemed this simple approach as sufficient for our purposes."
   ]
  },
  {
   "cell_type": "code",
   "execution_count": null,
   "id": "f5c80e9e",
   "metadata": {
    "id": "f5c80e9e",
    "outputId": "eac2f0fb-9b90-4161-f157-96a6a0154c4f"
   },
   "outputs": [
    {
     "data": {
      "text/html": [
       "<div>\n",
       "<style scoped>\n",
       "    .dataframe tbody tr th:only-of-type {\n",
       "        vertical-align: middle;\n",
       "    }\n",
       "\n",
       "    .dataframe tbody tr th {\n",
       "        vertical-align: top;\n",
       "    }\n",
       "\n",
       "    .dataframe thead th {\n",
       "        text-align: right;\n",
       "    }\n",
       "</style>\n",
       "<table border=\"1\" class=\"dataframe\">\n",
       "  <thead>\n",
       "    <tr style=\"text-align: right;\">\n",
       "      <th></th>\n",
       "      <th>name</th>\n",
       "      <th>gender</th>\n",
       "      <th>count</th>\n",
       "    </tr>\n",
       "  </thead>\n",
       "  <tbody>\n",
       "    <tr>\n",
       "      <th>12502</th>\n",
       "      <td>michael</td>\n",
       "      <td>M</td>\n",
       "      <td>64924</td>\n",
       "    </tr>\n",
       "    <tr>\n",
       "      <th>12503</th>\n",
       "      <td>christopher</td>\n",
       "      <td>M</td>\n",
       "      <td>59613</td>\n",
       "    </tr>\n",
       "  </tbody>\n",
       "</table>\n",
       "</div>"
      ],
      "text/plain": [
       "              name gender  count\n",
       "12502      michael      M  64924\n",
       "12503  christopher      M  59613"
      ]
     },
     "execution_count": 171,
     "metadata": {},
     "output_type": "execute_result"
    }
   ],
   "source": [
    "#handle names that are given to both males and females\n",
    "us_names = us_names.sort_values(by = ['count'], ascending = False)\n",
    "us_names = us_names.drop_duplicates(subset='name', keep=\"first\")\n",
    "\n",
    "#also convert US names to lowercase\n",
    "us_names['name'] = us_names['name'].apply(lambda x: firstname(x))\n",
    "us_names.head(2)"
   ]
  },
  {
   "cell_type": "markdown",
   "id": "cee2b352",
   "metadata": {
    "id": "cee2b352"
   },
   "source": [
    "Finally, we merge the names with our dataframe. We use a left merge, so that no user data is lost. "
   ]
  },
  {
   "cell_type": "code",
   "execution_count": null,
   "id": "6c5fd06e",
   "metadata": {
    "id": "6c5fd06e"
   },
   "outputs": [],
   "source": [
    "#add the gender information to the reviews dataset using a left merge\n",
    "df = df.merge(us_names, on = 'name', how = 'left')"
   ]
  },
  {
   "cell_type": "markdown",
   "id": "8604c9ba",
   "metadata": {
    "id": "8604c9ba"
   },
   "source": [
    "We see that more than twice as many reviews have been written by men than women:"
   ]
  },
  {
   "cell_type": "code",
   "execution_count": null,
   "id": "cc9223cb",
   "metadata": {
    "id": "cc9223cb",
    "outputId": "65ae1da4-a9e7-4c7b-e04c-99e2ae1f8c0d"
   },
   "outputs": [
    {
     "data": {
      "image/png": "[encoded data removed]",
      "text/plain": [
       "<Figure size 432x288 with 1 Axes>"
      ]
     },
     "metadata": {},
     "output_type": "display_data"
    }
   ],
   "source": [
    "labels = ['Female','Male']\n",
    "plt.pie(df[\"gender\"].value_counts().sort_index(), autopct=\"%1.f%%\", labels = labels, colors = CB_colors)\n",
    "plt.title(\"Gender Distribution\")\n",
    "plt.show()"
   ]
  },
  {
   "cell_type": "markdown",
   "id": "cda63431",
   "metadata": {
    "id": "cda63431"
   },
   "source": [
    "<a id='education'></a>\n",
    "### 3.7 Adding Education"
   ]
  },
  {
   "cell_type": "markdown",
   "id": "296f33aa",
   "metadata": {
    "id": "296f33aa"
   },
   "source": [
    "With the following code, we wish to get the information, if somebody obtained higher education or not. It searches for key words in the column \"education\" of the user data:"
   ]
  },
  {
   "cell_type": "code",
   "execution_count": null,
   "id": "600f6196",
   "metadata": {
    "id": "600f6196"
   },
   "outputs": [],
   "source": [
    "liste = [\"Uni\", \"uni\", \"College\", \"college\", \"Institute\", \"institute\", \"School\", \"PhD\", \"BS\", \"MS\", \"Physics\", \"physic\", \n",
    "         \"Chemistry\", \"chem\", \"Biology\", \"Engineering\", \"engineering\", \"UC\", \"Science\", \"science\", \"Mathematics\", \"Law\", \n",
    "         \"law\", \"Master\", \"Bachelor\", \"Technology\", \"Stanford\", \"Camebridge\", \"MIT\", 'Caltech', \"NYU\", \"Math\", \"math\", \"bio\"\n",
    "        \"BA\", \"MA\", \"Academic\", \"academic\", \"Student\", \"student\", \"EPFL\", \"Tech\", \"tech\", \"nyu\", \"Academia\", \"Penn State\"]\n",
    "\n",
    "def uni(row):\n",
    "    for word in liste:\n",
    "        if pd.isna(row) == False:\n",
    "            if word in row: # we return \"1\", if one of the words in the list appears in the column\n",
    "                return 1\n",
    "        else:\n",
    "                return \"Unknown\"\n",
    "    \n",
    "    return 0 #otherwise, we return 0\n",
    "    \n",
    "df[\"university\"] = df[\"education\"].apply(uni)"
   ]
  },
  {
   "cell_type": "markdown",
   "id": "3b499af8",
   "metadata": {
    "id": "3b499af8"
   },
   "source": [
    "First, we analyze all the data, event though we know that by doing this, we include everbody who did not provide information about their education to Google. We hereby assume that these people do not have higher education (meaning that the column \"Unversity\" = 0)"
   ]
  },
  {
   "cell_type": "code",
   "execution_count": null,
   "id": "256e93c6",
   "metadata": {
    "id": "256e93c6",
    "outputId": "b6fd7160-5fe5-45b5-c696-9951f020b3f0"
   },
   "outputs": [
    {
     "data": {
      "text/plain": [
       "0          891686\n",
       "1          398577\n",
       "Unknown    319876\n",
       "Name: university, dtype: int64"
      ]
     },
     "execution_count": 49,
     "metadata": {},
     "output_type": "execute_result"
    }
   ],
   "source": [
    "df[\"university\"].value_counts()"
   ]
  },
  {
   "cell_type": "code",
   "execution_count": null,
   "id": "616ea960",
   "metadata": {
    "id": "616ea960",
    "outputId": "82f1c7e4-6cb9-4dad-f41c-08de9ec1e869"
   },
   "outputs": [
    {
     "data": {
      "text/plain": [
       "6.145134049429957"
      ]
     },
     "execution_count": 52,
     "metadata": {},
     "output_type": "execute_result"
    }
   ],
   "source": [
    "df[df[\"university\"] == 0][\"readability\"].mean()"
   ]
  },
  {
   "cell_type": "code",
   "execution_count": null,
   "id": "52ff7822",
   "metadata": {
    "id": "52ff7822",
    "outputId": "1bcadea7-dbba-4201-a46b-2f973b58757b"
   },
   "outputs": [
    {
     "data": {
      "text/plain": [
       "6.308552676145387"
      ]
     },
     "execution_count": 53,
     "metadata": {},
     "output_type": "execute_result"
    }
   ],
   "source": [
    "df[df[\"university\"] == 1][\"readability\"].mean()"
   ]
  },
  {
   "cell_type": "markdown",
   "id": "ef10414d",
   "metadata": {
    "id": "ef10414d"
   },
   "source": [
    "The readability column, which was obtained earlier, tells us how gramatically complex the written review is. We see that there are only minor differences in the mean between people who went to university, and those who did not. Therefore, we check if this gap is growing when only those are included who actually wrote something about their education. Also, \"Unknown\" values will be excluded."
   ]
  },
  {
   "cell_type": "code",
   "execution_count": null,
   "id": "c63165b4",
   "metadata": {
    "id": "c63165b4"
   },
   "outputs": [],
   "source": [
    "df_test = df[(df[\"education\"] != \"[[[], [], [], [], [], 6], []]\") & (df[\"education\"] !=\"[[], []]\") &(df[\"education\"] !=0)]"
   ]
  },
  {
   "cell_type": "code",
   "execution_count": null,
   "id": "8b693532",
   "metadata": {
    "id": "8b693532",
    "outputId": "40f3a329-49e5-418c-9aa4-c42112bd40bd"
   },
   "outputs": [
    {
     "name": "stdout",
     "output_type": "stream",
     "text": [
      "Mean readability score no university: 5.7607045521093765\n",
      "Mean readability score university: 6.308552676145387\n"
     ]
    }
   ],
   "source": [
    "print(\"Mean readability score no university:\", df_test[df_test[\"university\"] == 0][\"readability\"].mean())\n",
    "print(\"Mean readability score university:\", df_test[df_test[\"university\"] == 1][\"readability\"].mean())"
   ]
  },
  {
   "cell_type": "markdown",
   "id": "a8e3ada6",
   "metadata": {
    "id": "a8e3ada6"
   },
   "source": [
    "We see that the gap in readability grew slightly, so we can assume an underlying correlation between education and readability of the reviews. However, we need to keep in mind that readability is also higher when words are misspelled, so we cannot automatically conclude that users with a university education automatically write more complex sentences. However, the fact that users with university education also tend to write longer reviews (see below) supports this claim."
   ]
  },
  {
   "cell_type": "code",
   "execution_count": null,
   "id": "d095c6b5",
   "metadata": {
    "id": "d095c6b5",
    "outputId": "93ea76d2-db37-4f88-9b6a-721079b157f1"
   },
   "outputs": [
    {
     "name": "stdout",
     "output_type": "stream",
     "text": [
      "Mean review length no university: 41.12834200509043\n",
      "Mean review length university: 48.720503190098775\n"
     ]
    }
   ],
   "source": [
    "print(\"Mean review length no university:\", df_test[df_test[\"university\"] == 0][\"review_length (words)\"].mean())\n",
    "print(\"Mean review length university:\", df_test[df_test[\"university\"] == 1][\"review_length (words)\"].mean())"
   ]
  },
  {
   "cell_type": "markdown",
   "id": "1920f9f6",
   "metadata": {
    "id": "1920f9f6"
   },
   "source": [
    "<a id='sanitycheck'></a>\n",
    "## 4. Analyses and Sanity Check of Sentiments and Emotion Scores\n",
    "\n",
    "In the following, we show some preliminary analyses of the now acquired sentiments and emotionality scores. Since the sentiments were created from a different package than the emotions (VADER Lexicon vs NRCLex), we are especially interested in seeing whether the results correlate. Through this, we hope to become even more confident in our data.\n",
    "\n",
    "It is important to mention that the NRCLex also returns a sentiment. However, as discussed above, the NRCLex is less sensitive to the context within a sentence than the SentimentIntenstityAnalyzer (sia) based on VADER. Therefore, it was chosen to mainly investigate the sentiments from the NRCLex here."
   ]
  },
  {
   "cell_type": "markdown",
   "id": "cc81ba54",
   "metadata": {
    "id": "cc81ba54"
   },
   "source": [
    "The piechart below clearly shows that most of the reviews are written with a positive sentiment:"
   ]
  },
  {
   "cell_type": "code",
   "execution_count": null,
   "id": "fec0f0dc",
   "metadata": {
    "id": "fec0f0dc",
    "outputId": "17e193c4-f0df-4f71-9d20-e18e964dea61"
   },
   "outputs": [
    {
     "data": {
      "image/png": "[encoded data removed]",
      "text/plain": [
       "<Figure size 432x288 with 1 Axes>"
      ]
     },
     "metadata": {},
     "output_type": "display_data"
    }
   ],
   "source": [
    "df['sentiment'].value_counts().plot(kind=\"pie\", autopct=\"%1.f%%\",colors = CB_colors);"
   ]
  },
  {
   "cell_type": "markdown",
   "id": "ae93b9f0",
   "metadata": {
    "id": "ae93b9f0"
   },
   "source": [
    "As a first reliability check, we want to see if the sentiments (negative, neutral, positive) obtained using VADER (\"sia\") have corresponding mean ratings. For instance, one would assume that positive sentiments correspond to higher ratings are higher than neutral or negative sentiments:"
   ]
  },
  {
   "cell_type": "code",
   "execution_count": null,
   "id": "aa0afdff",
   "metadata": {
    "id": "aa0afdff",
    "outputId": "e5ae5955-8759-460a-9f9d-2530ae8e28a5"
   },
   "outputs": [
    {
     "data": {
      "text/plain": [
       "sentiment\n",
       "sia negative    2.232479\n",
       "sia neutral     3.097705\n",
       "sia positive    4.407766\n",
       "Name: rating, dtype: float64"
      ]
     },
     "execution_count": 29,
     "metadata": {},
     "output_type": "execute_result"
    }
   ],
   "source": [
    "df.groupby(\"sentiment\")['rating'].mean()"
   ]
  },
  {
   "cell_type": "markdown",
   "id": "c718ebad",
   "metadata": {
    "id": "c718ebad"
   },
   "source": [
    "As expected, we found distinct mean ratings for the different sentiments. \n",
    "Next, we investigate the relationship between review length (in words and characters) and sentiment. Positive reviews are shorter than negative ones. One possible reason for this may be that more words are needed to elaborate on a negative review to explain what a person dislikes. Neutral sentiments are longest, which can be explained by the fact that the used algorithm averages scores of distinct sentences in the review. With more sentences, there is a higher chance of the average getting close to zero."
   ]
  },
  {
   "cell_type": "code",
   "execution_count": null,
   "id": "3af60486",
   "metadata": {
    "id": "3af60486",
    "outputId": "c63419e7-63a8-4ca4-c93d-cb7a10a0ad55"
   },
   "outputs": [
    {
     "data": {
      "text/plain": [
       "sentiment\n",
       "sia negative    57.496663\n",
       "sia neutral     65.259937\n",
       "sia positive    45.001814\n",
       "Name: review_length (words), dtype: float64"
      ]
     },
     "execution_count": 30,
     "metadata": {},
     "output_type": "execute_result"
    }
   ],
   "source": [
    "df.groupby(\"sentiment\")['review_length (words)'].mean()"
   ]
  },
  {
   "cell_type": "code",
   "execution_count": null,
   "id": "bf826bdc",
   "metadata": {
    "id": "bf826bdc",
    "outputId": "b18e6edb-81f2-453d-810b-750007023464"
   },
   "outputs": [
    {
     "data": {
      "text/plain": [
       "sentiment\n",
       "sia negative    249.955929\n",
       "sia neutral     282.668405\n",
       "sia positive    200.915518\n",
       "Name: review_length (characters), dtype: float64"
      ]
     },
     "execution_count": 31,
     "metadata": {},
     "output_type": "execute_result"
    }
   ],
   "source": [
    "df.groupby(\"sentiment\")['review_length (characters)'].mean()"
   ]
  },
  {
   "cell_type": "markdown",
   "id": "d13c5d07",
   "metadata": {
    "id": "d13c5d07"
   },
   "source": [
    "For our further analysis, we create three different datasets corresponding to each sentiment, and look for differences."
   ]
  },
  {
   "cell_type": "code",
   "execution_count": null,
   "id": "bbe9f009",
   "metadata": {
    "id": "bbe9f009"
   },
   "outputs": [],
   "source": [
    "#gather negative, neutral and positive sentiment\n",
    "negatives = df[df.sentiment == \"sia negative\"]\n",
    "neutrales = df[df.sentiment == \"sia neutral\"]\n",
    "positives = df[df.sentiment == \"sia positive\"]"
   ]
  },
  {
   "cell_type": "code",
   "execution_count": null,
   "id": "023438a6",
   "metadata": {
    "id": "023438a6"
   },
   "outputs": [],
   "source": [
    "emotion_columns = ['fear', 'anger', 'anticipation', 'trust', 'surprise', 'sadness', 'disgust', 'joy',\n",
    "       'positive (EmoLex)', 'negative (EmoLex)', 'emotion_sum', 'sum_positive_emotions', 'sum_negative_emotions']"
   ]
  },
  {
   "cell_type": "code",
   "execution_count": null,
   "id": "4f98c9f7",
   "metadata": {
    "id": "4f98c9f7"
   },
   "outputs": [],
   "source": [
    "#calculate the means of the emotionality values\n",
    "negative_means= negatives[emotion_columns].mean()\n",
    "neutrales_means = neutrales[emotion_columns].mean()\n",
    "positives_means = positives[emotion_columns].mean()"
   ]
  },
  {
   "cell_type": "code",
   "execution_count": null,
   "id": "d92f9b11",
   "metadata": {
    "id": "d92f9b11"
   },
   "outputs": [],
   "source": [
    "#create a dataframe with the mean values for plotting\n",
    "emotions = pd.DataFrame()\n",
    "emotions[\"positives\"] = positives_means\n",
    "emotions[\"neutrales\"] = neutrales_means\n",
    "emotions[\"negatives\"] = negative_means"
   ]
  },
  {
   "cell_type": "code",
   "execution_count": null,
   "id": "6a33b9a4",
   "metadata": {
    "id": "6a33b9a4",
    "outputId": "42d2404b-98ca-4d01-aeb4-f93c81ab9d43"
   },
   "outputs": [
    {
     "data": {
      "image/png": "[encoded data removed]",
      "text/plain": [
       "<Figure size 1080x720 with 1 Axes>"
      ]
     },
     "metadata": {
      "needs_background": "light"
     },
     "output_type": "display_data"
    }
   ],
   "source": [
    "emotions.plot(kind=\"bar\", figsize=(15,10), color = CB_colors);"
   ]
  },
  {
   "cell_type": "markdown",
   "id": "afd679d5",
   "metadata": {
    "id": "afd679d5"
   },
   "source": [
    "The graph reveals that the method to obtain emotionality values is working as expected. In almost all emotions, we see that the naturally expected sentiment is dominant. Also, the \"emotion_sum\" (the sum of all the emotions obtained) is nearly twice as high for the data with positive or negative sentiment as for the dataset with neutral sentiments. Positive emotions like trust and joy are highest for the positive dataset, and negatives emotions likewise. But we also see that there are also parts of positive emotions in negative reviews and vice versa. This can be seen as a mistake, but it does also make sense that a review is neither entirely negative nor positive. Emotionality is shaded, and different emotions are existent at any time in a person.\n",
    "\n",
    "Next, we investigate the connection between ratings (on a scale of 1-5, 5 is best) and sentiments:"
   ]
  },
  {
   "cell_type": "code",
   "execution_count": null,
   "id": "f942c03e",
   "metadata": {
    "id": "f942c03e",
    "outputId": "cf8b8585-285e-4642-85ef-e8088631e0fc"
   },
   "outputs": [
    {
     "data": {
      "image/png": "[encoded data removed]",
      "text/plain": [
       "<Figure size 864x432 with 3 Axes>"
      ]
     },
     "metadata": {},
     "output_type": "display_data"
    }
   ],
   "source": [
    "fig, ax = plt.subplots(1,3,figsize = (12,6))\n",
    "labels = [1.0,2.0,3.0,4.0,5.0]\n",
    "ax[0].pie(positives[\"rating\"].value_counts().sort_index(), autopct=\"%1.f%%\", labels = labels, colors = CB_colors)\n",
    "ax[0].set_title(\"Positive Sentiments\")\n",
    "\n",
    "ax[1].pie(neutrales[\"rating\"].value_counts().sort_index(), autopct=\"%1.f%%\", labels = labels, colors = CB_colors)\n",
    "ax[1].set_title(\"Neutral Sentiments\")\n",
    "\n",
    "ax[2].pie(negatives[\"rating\"].value_counts().sort_index(), autopct=\"%1.f%%\", labels = labels, colors = CB_colors)\n",
    "ax[2].set_title(\"Negative Sentiments\")\n",
    "\n",
    "fig.show()"
   ]
  },
  {
   "cell_type": "markdown",
   "id": "ea612a65",
   "metadata": {
    "id": "ea612a65"
   },
   "source": [
    "It can be seen that the sentiments and ratings generally match. Positive sentiments are associated with more high ratings, and negative sentiments tend to be connected to lower ratings. The picture is mixed for the neutral sentiments. We argue that this picture can however change depending on the neutrality threshold as defined in the sentiment analysis."
   ]
  },
  {
   "cell_type": "markdown",
   "id": "fcc4419c",
   "metadata": {
    "id": "fcc4419c"
   },
   "source": [
    "<a id='profiles'></a>\n",
    "## 5. Creation of the User Profiles\n",
    "\n",
    "In the following, we use all the previously gathered information to create user profiles. This results in a table where each user has one row, and the following information is gathered about them: \n",
    "\n",
    "**Personal information:**\n",
    "Gender, first name, university education\n",
    "\n",
    "**Behaviour information:**\n",
    "Number of reviewed places, mean and max price of visited places, places of interest (=all reviewed categories of places), mean rating, minimum rating, mean and max review_length (characters), relevant US states, relevant places\n",
    "\n",
    "**\"Psychological\" information:**\n",
    "top_sentiment, mean fear, mean anger, mean_anticipation, mean trust, mean surprise, mean sadness, mean disgust, mean joy, mean emotion sum, mean positive emotions, mean negative emotions, top emotion associated with \"favourite\" category, mean readability, mean profanity "
   ]
  },
  {
   "cell_type": "code",
   "execution_count": null,
   "id": "ddb58290",
   "metadata": {
    "id": "ddb58290"
   },
   "outputs": [],
   "source": [
    "# group the relevant data per user to get information about the ratings, price preferences and interests (categories of places visited)\n",
    "user_prof = df.groupby('userID').agg({'gender':['max'], 'sentiment':['max'], 'rating':['mean','min'],\n",
    "                                      'review_length (characters)':['mean','max'],'fear':['mean'], 'anger':['mean'],\n",
    "                                      'anticipation':['mean'], 'trust':['mean'], 'surprise':['mean'],\n",
    "                                      'sadness':['mean'], 'disgust':['mean'], 'joy':['mean'],'emotion_sum':['mean'],\n",
    "                                      'sum_positive_emotions':['mean'], 'sum_negative_emotions':['mean'],\n",
    "                                      'readability':['mean'], 'profanity_value':['mean'], 'placeID':pd.Series.nunique,\n",
    "                                      'name':'first','price_clean':['mean','max'], 'category1':list, 'university': ['max']}).reset_index()"
   ]
  },
  {
   "cell_type": "code",
   "execution_count": null,
   "id": "4e42b99f",
   "metadata": {
    "id": "4e42b99f"
   },
   "outputs": [],
   "source": [
    "#rename the columns\n",
    "user_prof.columns = ['userID', 'gender', 'top_sentiment', 'mean_rating', 'min_rating', 'mean_review_length (characters)', 'max_review_length (characters)', 'mean_fear',\\\n",
    "                     'mean_anger', 'mean_anticipation','mean_trust','mean_surprise', 'mean_sadness','mean_disgust','mean_joy','mean_emotion_sum','mean_positive_emotions',\\\n",
    "                    'mean_negative_emotions','mean_readability', 'mean_profanity', 'number_reviewed_places', 'first_name', 'mean_price', 'max_price', 'interest','university_education']http://localhost:8888/notebooks/Documents/Studium/Master/13%20Weeks%20Spring%2022/42578%20Advanced%20Business%20Analytics/ABA%20Project/2.%20Creation%20of%20User%20Profiles.ipynb#Addition-to-user-profiles:"
   ]
  },
  {
   "cell_type": "code",
   "execution_count": null,
   "id": "6af2ef25",
   "metadata": {
    "id": "6af2ef25"
   },
   "outputs": [],
   "source": [
    "# get a user's top category (with the highest rating)\n",
    "user_top_1 = df.groupby(['userID', 'category1']).agg({'rating':'first'}).reset_index()\n",
    "user_top_1 = user_top_1.sort_values(by='rating', ascending=False).drop_duplicates('userID').sort_index().rename(columns={'category1':'top_category'})"
   ]
  },
  {
   "cell_type": "code",
   "execution_count": null,
   "id": "9cb7c2af",
   "metadata": {
    "id": "9cb7c2af"
   },
   "outputs": [],
   "source": [
    "# merge the grouped frame together to get one user profile\n",
    "user_prof = pd.merge(user_prof, user_top_1, on='userID')"
   ]
  },
  {
   "cell_type": "markdown",
   "id": "01035f97",
   "metadata": {
    "id": "01035f97"
   },
   "source": [
    "<a id='highlevel'></a>\n",
    "### 5.1 Addition 1 to user profiles (high-level categories): \n",
    "High-Level categories - the categories of the places (such as \"Pizza Restaurant\", \"Steak House\" etc.) are very diverse, so we attempt to group them a bit more in the following. For instance, the two examples that were just mentioned can both be labelled as \"restaurant\"."
   ]
  },
  {
   "cell_type": "code",
   "execution_count": null,
   "id": "1f444ff3",
   "metadata": {
    "id": "1f444ff3"
   },
   "outputs": [],
   "source": [
    "def find_category(x):\n",
    "    if 'Restaurant' in x or 'Steak House' in x:\n",
    "        return 'Restaurant'\n",
    "    elif 'Sandwich Shop' in x or 'Coffee Shop' in x:\n",
    "        return 'Takeaway'\n",
    "    elif 'Supermarket' in x or 'Grocer' in x:\n",
    "        return 'Groceries'\n",
    "    elif 'Bar' in x or 'Pub' in x:\n",
    "        return 'Bar'\n",
    "    elif 'Shopping' in x:\n",
    "        return 'Shopping'\n",
    "    elif 'Service' in x or 'Plumber' in x:\n",
    "        return 'Services'\n",
    "    elif 'Hotel' in x or 'Motel' in x or 'Resort' in x:\n",
    "        return 'Overnight Stay'\n",
    "    elif 'Tire' in x or 'Car' in x or 'Auto' in x or 'Toyota' in x or 'Ford' in x or 'Transmission' in x:\n",
    "        return 'Automotive'\n",
    "    elif 'Park' in x:\n",
    "        return 'Park'\n",
    "    elif 'Physician' in x or 'Dentist' in x or 'Doctor' in x or 'Pharma' in x or 'Health' in x:\n",
    "        return 'Health'\n",
    "    elif 'Skin' in x or 'Salon' in x or 'Hair' in x:\n",
    "        return 'Personal Grooming'\n",
    "    elif 'Veterinarian' in x:\n",
    "        return 'Veterinarian'\n",
    "    elif 'Movie' in x or 'Theater' in x or 'Cinema' in x or 'Comedy' in x:\n",
    "        return 'Entertainment'\n",
    "    elif 'Night Club' in x or 'Strip Club' in x or 'Adult Entertainment' in x or 'Sex' in x:\n",
    "        return 'Adult Entertainment'\n",
    "    elif 'Real Estate' in x or 'Property' in x:\n",
    "        return 'Real Estate'\n",
    "    elif 'Tattoo' in x:\n",
    "        return 'Tattoo'\n",
    "    elif 'Self-Storage' in x:\n",
    "        return 'Self-Storage'\n",
    "    elif 'University' in x or 'School' in x:\n",
    "        return 'Education'\n",
    "    elif 'Lesbian' in x:\n",
    "        return 'Lesbian/Gay Organization'\n",
    "    else:\n",
    "        return 'Other'"
   ]
  },
  {
   "cell_type": "code",
   "execution_count": null,
   "id": "13c693cf",
   "metadata": {
    "id": "13c693cf"
   },
   "outputs": [],
   "source": [
    "#applying the function to find high-level categories\n",
    "user_prof['top_category_highlevel'] = user_prof['top_category'].apply(lambda x: find_category(x))"
   ]
  },
  {
   "cell_type": "markdown",
   "id": "bf04a834",
   "metadata": {
    "id": "bf04a834"
   },
   "source": [
    "Below, we give an impression over the highlevel categories. The largest category is still other, since the categories of places are indeed very varied. But for instance the fact that the second most popular category is restaurants is in line with the wordcloud at the beginning of this notebook. Another finding from our process of creating high-level categories is that some reviewers also review places which allow for an inference of their sexuality, such as gay bars. This is highly private information, which however is (unknowingly?) shared by the users. "
   ]
  },
  {
   "cell_type": "code",
   "execution_count": null,
   "id": "57bf143a",
   "metadata": {
    "id": "57bf143a",
    "outputId": "2594acbf-00e9-4053-e1da-0530642f8939"
   },
   "outputs": [
    {
     "data": {
      "image/png": "[encoded data removed]",
      "text/plain": [
       "<Figure size 1080x432 with 1 Axes>"
      ]
     },
     "metadata": {
      "needs_background": "light"
     },
     "output_type": "display_data"
    }
   ],
   "source": [
    "fig = user_prof['top_category_highlevel'].value_counts().plot(kind='bar', figsize = (15,6))\n",
    "fig.set_xticklabels(fig.get_xticklabels(), rotation = 60)\n",
    "fig.set_title('Favourite high-level categories')\n",
    "fig.set_xlabel('Categories')\n",
    "fig.set_ylabel('Number of reviews')\n",
    "fig.grid()\n",
    "plt.show()"
   ]
  },
  {
   "cell_type": "markdown",
   "id": "d1c98bb6",
   "metadata": {
    "id": "d1c98bb6"
   },
   "source": [
    "<a id='top_emotion'></a>\n",
    "### 5.2 Addition 2 to user profiles (top emotion for top category):  \n",
    "Emotion associated with a reviewer's top or \"favourite\" category - we also want to find out which emotion a user connects with their top (=highest rated) category."
   ]
  },
  {
   "cell_type": "code",
   "execution_count": null,
   "id": "176e5ef5",
   "metadata": {
    "id": "176e5ef5"
   },
   "outputs": [],
   "source": [
    "# Getting the the needed columns\n",
    "user_prof_2=user_prof[['userID', 'top_category']]\n",
    "df_user_prof = pd.merge(df, user_prof_2, on='userID')"
   ]
  },
  {
   "cell_type": "code",
   "execution_count": null,
   "id": "0f06ba0c",
   "metadata": {
    "id": "0f06ba0c"
   },
   "outputs": [],
   "source": [
    "# getting only the top category rows\n",
    "only_favourites=df_user_prof.iloc[:, :][df_user_prof['category1'] == df_user_prof['top_category']]"
   ]
  },
  {
   "cell_type": "code",
   "execution_count": null,
   "id": "3739f25a",
   "metadata": {
    "id": "3739f25a"
   },
   "outputs": [],
   "source": [
    "# getting the mean values for each user\n",
    "grouped_emotion = only_favourites.groupby('userID').agg({'name':'first', 'sentiment':'first',\n",
    "       'fear':'mean', 'anger':'mean', 'anticipation':'mean', 'trust':'mean',\n",
    "       'surprise':'mean', 'sadness':'mean', 'disgust':'mean', 'joy':'mean', 'positive (EmoLex)':'mean',\n",
    "       'negative (EmoLex)':'mean', 'emotion_sum':'mean', 'mean_rating':'first',\n",
    "       'top_category':'first', 'top_sentiment':'first'}).reset_index()"
   ]
  },
  {
   "cell_type": "code",
   "execution_count": null,
   "id": "f60de29c",
   "metadata": {
    "id": "f60de29c"
   },
   "outputs": [],
   "source": [
    "# Strongest emotion for top category \n",
    "grouped_emotion['top_cat_emo']= grouped_emotion.iloc[:, 3:11].idxmax(axis=1)\n",
    "#check indices"
   ]
  },
  {
   "cell_type": "code",
   "execution_count": null,
   "id": "59658ddc",
   "metadata": {
    "id": "59658ddc"
   },
   "outputs": [],
   "source": [
    "#preparing the grouped emotions for merging them back to the user profiles - we are just interested in 'top_cat_emo'\n",
    "top_emo_merge=grouped_emotion.drop(columns=['name', 'sentiment', 'fear', 'anger', 'anticipation', 'trust',\n",
    "       'surprise', 'sadness', 'disgust', 'joy', 'positive (EmoLex)',\n",
    "       'negative (EmoLex)', 'emotion_sum', 'mean_rating',\n",
    "       'top_category', 'top_sentiment'])"
   ]
  },
  {
   "cell_type": "code",
   "execution_count": null,
   "id": "affcf802",
   "metadata": {
    "id": "affcf802"
   },
   "outputs": [],
   "source": [
    "# merge the data together to get one user profile\n",
    "user_prof = pd.merge(user_prof, top_emo_merge, on='userID')"
   ]
  },
  {
   "cell_type": "markdown",
   "id": "9072e6f5",
   "metadata": {
    "id": "9072e6f5"
   },
   "source": [
    "<a id='top_states'></a>\n",
    "### 5.3 Addition 3 to user profiles (top states and places):\n",
    "Top states and places for each user - in the following, we get the top US states and places in which the users have been. This information can for instance be used for \"tracking\" purposes.\n",
    "\n",
    "A more precise analysis has been made in the notebook 3 \"User Profile analysis\", in which the top places of the users are geographically clustered to detect potentially long stays."
   ]
  },
  {
   "cell_type": "code",
   "execution_count": null,
   "id": "9bca2ae5",
   "metadata": {
    "id": "9bca2ae5"
   },
   "outputs": [],
   "source": [
    "def get_top_states_places(df, min_reviews=0):\n",
    "    \"\"\"\n",
    "    Returns a df with each user and a list with their top states\n",
    "\n",
    "    :param df: df with all the reviews, users, states etc.\n",
    "    :param min_reviews: at least those reviews in each state. If min_reviews=0 (default), it will add every state in which a user did a review.\n",
    "    :return: df with every user and 2 columns with top_states and places.\n",
    "    \"\"\"\n",
    "\n",
    "    print(\"Getting top states\")\n",
    "    df_count = df.groupby(by=[\"userID\", \"state\"]).size().reset_index(name=\"reviews_in_state\")\n",
    "    df_count = df_count[df_count[\"reviews_in_state\"] >= min_reviews]\n",
    "    df_top_states = df_count.groupby(\"userID\")[\"state\"].apply(list).reset_index()\n",
    "\n",
    "    # Merging with all users that might have been out of the count\n",
    "    # This way you will have every user in the df.\n",
    "    if min_reviews > 0:\n",
    "        df_all_users = pd.DataFrame(data={\"userID\": df.userID.unique()})\n",
    "        df_top_states = df_all_users.merge(df_top_states, how=\"left\")\n",
    "        \n",
    "    \n",
    "    print(\"Getting places\")\n",
    "    df_places = df.groupby(by=[\"userID\"])[\"placeID\"].apply(list).reset_index()\n",
    "    df_places = df_places.rename(columns={\"placeID\": \"placeIDs\"})\n",
    "    \n",
    "    # Merging with the top states, since it has all the users: inner join and there is no\n",
    "    # loss of users\n",
    "    df_top_states = df_top_states.merge(df_places, on=\"userID\")\n",
    "    return df_top_states.rename(columns={\"state\": \"top_states\"})\n",
    "\n",
    "\n",
    "ret = get_top_states_places(df)\n",
    "ret.head()"
   ]
  },
  {
   "cell_type": "code",
   "execution_count": null,
   "id": "ce65a4f2",
   "metadata": {
    "id": "ce65a4f2"
   },
   "outputs": [],
   "source": [
    "#adding this information the user profile dataframe\n",
    "user_prof = user_prof.merge(ret, on=\"userID\")"
   ]
  },
  {
   "cell_type": "code",
   "execution_count": null,
   "id": "3bf5c035",
   "metadata": {
    "id": "3bf5c035",
    "outputId": "9a40386e-ff7a-46bd-f876-bc6627bafdb4"
   },
   "outputs": [
    {
     "data": {
      "text/html": [
       "<div>\n",
       "<style scoped>\n",
       "    .dataframe tbody tr th:only-of-type {\n",
       "        vertical-align: middle;\n",
       "    }\n",
       "\n",
       "    .dataframe tbody tr th {\n",
       "        vertical-align: top;\n",
       "    }\n",
       "\n",
       "    .dataframe thead th {\n",
       "        text-align: right;\n",
       "    }\n",
       "</style>\n",
       "<table border=\"1\" class=\"dataframe\">\n",
       "  <thead>\n",
       "    <tr style=\"text-align: right;\">\n",
       "      <th></th>\n",
       "      <th>userID</th>\n",
       "      <th>gender</th>\n",
       "      <th>top_sentiment</th>\n",
       "      <th>mean_rating</th>\n",
       "      <th>min_rating</th>\n",
       "      <th>mean_review_length (characters)</th>\n",
       "      <th>max_review_length (characters)</th>\n",
       "      <th>mean_fear</th>\n",
       "      <th>mean_anger</th>\n",
       "      <th>mean_anticipation</th>\n",
       "      <th>...</th>\n",
       "      <th>mean_price</th>\n",
       "      <th>max_price</th>\n",
       "      <th>interest</th>\n",
       "      <th>university_education</th>\n",
       "      <th>top_category</th>\n",
       "      <th>rating</th>\n",
       "      <th>top_category_highlevel</th>\n",
       "      <th>top_cat_emo</th>\n",
       "      <th>top_states</th>\n",
       "      <th>placeIDs</th>\n",
       "    </tr>\n",
       "  </thead>\n",
       "  <tbody>\n",
       "    <tr>\n",
       "      <th>0</th>\n",
       "      <td>100000032416892623125</td>\n",
       "      <td>M</td>\n",
       "      <td>sia positive</td>\n",
       "      <td>4.666667</td>\n",
       "      <td>4</td>\n",
       "      <td>186.500000</td>\n",
       "      <td>678</td>\n",
       "      <td>0.052083</td>\n",
       "      <td>0.041667</td>\n",
       "      <td>0.129808</td>\n",
       "      <td>...</td>\n",
       "      <td>2.333333</td>\n",
       "      <td>3.0</td>\n",
       "      <td>['Chinese Restaurant', 'European Restaurant', ...</td>\n",
       "      <td>0</td>\n",
       "      <td>Barbecue Restaurant</td>\n",
       "      <td>5</td>\n",
       "      <td>Restaurant</td>\n",
       "      <td>trust</td>\n",
       "      <td>[' CA']</td>\n",
       "      <td>['116585428624152564242', '1094200330908103280...</td>\n",
       "    </tr>\n",
       "    <tr>\n",
       "      <th>1</th>\n",
       "      <td>100000053212755369563</td>\n",
       "      <td>M</td>\n",
       "      <td>sia neutral</td>\n",
       "      <td>2.000000</td>\n",
       "      <td>2</td>\n",
       "      <td>235.250000</td>\n",
       "      <td>459</td>\n",
       "      <td>0.034188</td>\n",
       "      <td>0.026709</td>\n",
       "      <td>0.067308</td>\n",
       "      <td>...</td>\n",
       "      <td>2.750000</td>\n",
       "      <td>3.0</td>\n",
       "      <td>['Restaurant', 'Restaurant', 'American Restaur...</td>\n",
       "      <td>0</td>\n",
       "      <td>Restaurant</td>\n",
       "      <td>2</td>\n",
       "      <td>Restaurant</td>\n",
       "      <td>trust</td>\n",
       "      <td>[' FL', ' MS']</td>\n",
       "      <td>['100073820849130920147', '1035191658417626213...</td>\n",
       "    </tr>\n",
       "    <tr>\n",
       "      <th>2</th>\n",
       "      <td>100000106576186066497</td>\n",
       "      <td>F</td>\n",
       "      <td>sia positive</td>\n",
       "      <td>5.000000</td>\n",
       "      <td>5</td>\n",
       "      <td>84.666667</td>\n",
       "      <td>106</td>\n",
       "      <td>0.083333</td>\n",
       "      <td>0.083333</td>\n",
       "      <td>0.500000</td>\n",
       "      <td>...</td>\n",
       "      <td>2.500000</td>\n",
       "      <td>3.0</td>\n",
       "      <td>['Fast Food Restaurant', 'Sushi Restaurant', '...</td>\n",
       "      <td>1</td>\n",
       "      <td>Espresso Bar</td>\n",
       "      <td>5</td>\n",
       "      <td>Bar</td>\n",
       "      <td>anticipation</td>\n",
       "      <td>[' CA']</td>\n",
       "      <td>['109700398636326253569', '1119710883960542391...</td>\n",
       "    </tr>\n",
       "    <tr>\n",
       "      <th>3</th>\n",
       "      <td>100000122158721897485</td>\n",
       "      <td>M</td>\n",
       "      <td>sia positive</td>\n",
       "      <td>3.333333</td>\n",
       "      <td>2</td>\n",
       "      <td>165.333333</td>\n",
       "      <td>216</td>\n",
       "      <td>0.030303</td>\n",
       "      <td>0.030303</td>\n",
       "      <td>0.141414</td>\n",
       "      <td>...</td>\n",
       "      <td>3.000000</td>\n",
       "      <td>3.0</td>\n",
       "      <td>['Latin American Restaurant', 'Chicken Restaur...</td>\n",
       "      <td>0</td>\n",
       "      <td>Chicken Restaurant</td>\n",
       "      <td>5</td>\n",
       "      <td>Restaurant</td>\n",
       "      <td>anticipation</td>\n",
       "      <td>[' CA']</td>\n",
       "      <td>['101788547508969264434', '1019596231878271029...</td>\n",
       "    </tr>\n",
       "    <tr>\n",
       "      <th>4</th>\n",
       "      <td>100000202208212354964</td>\n",
       "      <td>M</td>\n",
       "      <td>sia positive</td>\n",
       "      <td>5.000000</td>\n",
       "      <td>5</td>\n",
       "      <td>384.000000</td>\n",
       "      <td>675</td>\n",
       "      <td>0.052083</td>\n",
       "      <td>0.031250</td>\n",
       "      <td>0.139583</td>\n",
       "      <td>...</td>\n",
       "      <td>2.000000</td>\n",
       "      <td>2.0</td>\n",
       "      <td>['Auto Glass Shop', 'Garden Center', 'Coffee S...</td>\n",
       "      <td>1</td>\n",
       "      <td>Auto Glass Shop</td>\n",
       "      <td>5</td>\n",
       "      <td>Automotive</td>\n",
       "      <td>fear</td>\n",
       "      <td>[' NC']</td>\n",
       "      <td>['103340747374180675968', '1134435810559727883...</td>\n",
       "    </tr>\n",
       "  </tbody>\n",
       "</table>\n",
       "<p>5 rows × 32 columns</p>\n",
       "</div>"
      ],
      "text/plain": [
       "                  userID gender top_sentiment  mean_rating  min_rating  \\\n",
       "0  100000032416892623125      M  sia positive     4.666667           4   \n",
       "1  100000053212755369563      M   sia neutral     2.000000           2   \n",
       "2  100000106576186066497      F  sia positive     5.000000           5   \n",
       "3  100000122158721897485      M  sia positive     3.333333           2   \n",
       "4  100000202208212354964      M  sia positive     5.000000           5   \n",
       "\n",
       "   mean_review_length (characters)  max_review_length (characters)  mean_fear  \\\n",
       "0                       186.500000                             678   0.052083   \n",
       "1                       235.250000                             459   0.034188   \n",
       "2                        84.666667                             106   0.083333   \n",
       "3                       165.333333                             216   0.030303   \n",
       "4                       384.000000                             675   0.052083   \n",
       "\n",
       "   mean_anger  mean_anticipation  ...  mean_price  max_price  \\\n",
       "0    0.041667           0.129808  ...    2.333333        3.0   \n",
       "1    0.026709           0.067308  ...    2.750000        3.0   \n",
       "2    0.083333           0.500000  ...    2.500000        3.0   \n",
       "3    0.030303           0.141414  ...    3.000000        3.0   \n",
       "4    0.031250           0.139583  ...    2.000000        2.0   \n",
       "\n",
       "                                            interest  university_education  \\\n",
       "0  ['Chinese Restaurant', 'European Restaurant', ...                     0   \n",
       "1  ['Restaurant', 'Restaurant', 'American Restaur...                     0   \n",
       "2  ['Fast Food Restaurant', 'Sushi Restaurant', '...                     1   \n",
       "3  ['Latin American Restaurant', 'Chicken Restaur...                     0   \n",
       "4  ['Auto Glass Shop', 'Garden Center', 'Coffee S...                     1   \n",
       "\n",
       "          top_category  rating  top_category_highlevel   top_cat_emo  \\\n",
       "0  Barbecue Restaurant       5              Restaurant         trust   \n",
       "1           Restaurant       2              Restaurant         trust   \n",
       "2         Espresso Bar       5                     Bar  anticipation   \n",
       "3   Chicken Restaurant       5              Restaurant  anticipation   \n",
       "4      Auto Glass Shop       5              Automotive          fear   \n",
       "\n",
       "       top_states                                           placeIDs  \n",
       "0         [' CA']  ['116585428624152564242', '1094200330908103280...  \n",
       "1  [' FL', ' MS']  ['100073820849130920147', '1035191658417626213...  \n",
       "2         [' CA']  ['109700398636326253569', '1119710883960542391...  \n",
       "3         [' CA']  ['101788547508969264434', '1019596231878271029...  \n",
       "4         [' NC']  ['103340747374180675968', '1134435810559727883...  \n",
       "\n",
       "[5 rows x 32 columns]"
      ]
     },
     "execution_count": 15,
     "metadata": {},
     "output_type": "execute_result"
    }
   ],
   "source": [
    "#showing the final user profile dataframe\n",
    "df_users.head()"
   ]
  },
  {
   "cell_type": "markdown",
   "id": "be6936d9",
   "metadata": {
    "id": "be6936d9"
   },
   "source": [
    "<a id='conclusion'></a>\n",
    "## 6. Conclusion"
   ]
  },
  {
   "cell_type": "markdown",
   "id": "5ea3da23",
   "metadata": {
    "id": "5ea3da23"
   },
   "source": [
    "We have applied a bundle of open-source text analysis tools and table calculations, and used extra data to add a variety of information to the users and thereby create user profiles. We have also seen that especially the tools used for language analysis each have their individual drawbacks, the improvement of which is recommended for future applications. However, we argue that we have created a reasonable baseline, and will further analyze the now created user profiles in notebook 3."
   ]
  },
  {
   "cell_type": "markdown",
   "id": "9f69da8e",
   "metadata": {
    "id": "9f69da8e"
   },
   "source": [
    "<a id='ref'></a>\n",
    "## 7. References"
   ]
  },
  {
   "cell_type": "markdown",
   "id": "5529da99",
   "metadata": {
    "id": "5529da99"
   },
   "source": [
    "[1] Hutto, C. J.; Gilbert, E. (2014): \"VADER: A Parsimonious Rule-based Model for Sentiment Analysis of Social Media Text\", In: Proceedings of the Eighth International AAAI Conference on Weblogs and Social Media, https://ojs.aaai.org/index.php/ICWSM/article/view/14550/14399, retrieved on 05.05.2022\n",
    "\n",
    "[2] Mogyorosi, M. (2021): \"Sentiment Analysis: First Steps With Python's NLTK Library\", https://realpython.com/python-nltk-sentiment-analysis/, retrieved on 10.04.2022\n",
    "\n",
    "[3] Mohammad, S. M. (2022): \"NRC Word-Emotion Association Lexicon\", http://saifmohammad.com/WebPages/NRC-Emotion-Lexicon.htm, retrieved on 11.04.2022\n",
    "\n",
    "[4] Mohammad, S. M.; Turney, P. D. (2013): \"Crowdsourcing a Word–Emotion Association Lexicon\", https://arxiv.org/pdf/1308.6297.pdf, retrieved on 11.04.2022\n",
    "\n",
    "[5] Python Software Foundation (2022): \"Textstat\", https://pypi.org/project/textstat/, retrieved on 25.04.2022\n",
    "\n",
    "[6] Python Software Foundation (2022): \"Alt-profanity-check\", https://pypi.org/project/alt-profanity-check/, retrieved on 05.05.2022\n",
    "\n",
    "[7] Social Security Administration (2022): Beyond the Top 1000 Names / National Data, https://www.ssa.gov/oact/babynames/limits.html, retrieved on 28.04.2022"
   ]
  },
  {
   "cell_type": "markdown",
   "id": "4cc15c6a",
   "metadata": {
    "id": "4cc15c6a"
   },
   "source": [
    "<a id='append'></a>\n",
    "## 8. Appendix"
   ]
  },
  {
   "cell_type": "markdown",
   "id": "4e86fdd5",
   "metadata": {
    "id": "4e86fdd5"
   },
   "source": [
    "If any of the code above is to be run, the following cells must be executed first."
   ]
  },
  {
   "cell_type": "code",
   "execution_count": null,
   "id": "aa3072e0",
   "metadata": {
    "id": "aa3072e0"
   },
   "outputs": [],
   "source": [
    "#necessary installations and downloads\n",
    "!pip install nltk\n",
    "!pip install stopwords\n",
    "!pip install NRCLex\n",
    "!pip install textstat\n",
    "!pip install alt-profanity-check\n",
    "!pip install sklearn --upgrade\n",
    "nltk.download('punkt')\n",
    "nltk.download('vader_lexicon')"
   ]
  },
  {
   "cell_type": "code",
   "execution_count": null,
   "id": "899d48d8",
   "metadata": {
    "id": "899d48d8"
   },
   "outputs": [],
   "source": [
    "#necessary imports\n",
    "import pandas as pd\n",
    "import numpy as np\n",
    "import matplotlib.pyplot as plt\n",
    "import seaborn as sns\n",
    "\n",
    "#text processing and sentiment analysis\n",
    "import wordcloud\n",
    "from stopwords import get_stopwords\n",
    "stop_words=get_stopwords('en')\n",
    "import string\n",
    "from string import punctuation\n",
    "import nltk\n",
    "from nltk.stem import WordNetLemmatizer\n",
    "from nltk.sentiment import SentimentIntensityAnalyzer\n",
    "\n",
    "#emotionality analysis\n",
    "from nrclex import NRCLex\n",
    "from profanity_check import predict, predict_prob\n",
    "import textstat as ts\n",
    "\n",
    "#machine learning\n",
    "from sklearn.metrics import plot_confusion_matrix\n",
    "from sklearn.tree import plot_tree\n",
    "from sklearn import tree\n",
    "\n",
    "#filter warnings\n",
    "pd.options.mode.chained_assignment = None\n",
    "import warnings\n",
    "warnings.filterwarnings(\"ignore\")"
   ]
  },
  {
   "cell_type": "code",
   "execution_count": null,
   "id": "05033fca",
   "metadata": {
    "id": "05033fca"
   },
   "outputs": [],
   "source": [
    "#colour pallette optimized for colour-blindness\n",
    "CB_colors= ['#377eb8', '#ff7f00', '#4daf4a','#f781bf', '#a65628', '#984ea3','#999999', '#e41a1c', '#dede00']"
   ]
  },
  {
   "cell_type": "code",
   "execution_count": null,
   "id": "deae02ea",
   "metadata": {
    "id": "deae02ea"
   },
   "outputs": [],
   "source": [
    "#list of stopwords to be exluded from the reviews for the sentiment analysis\n",
    "refined_stopwords = ['', 'a', 'A', 'about', 'above', 'after', 'again', 'against', 'all', 'am',\\\n",
    "'About', 'Above', 'After','Again', 'Against','All', 'Am',\\\n",
    "'an','An', 'and','And', 'any','Any',\\\n",
    "'are', 'as', 'at', 'be', 'because', 'been', 'before', 'being', 'between', 'both', 'by',\\\n",
    "'Are', 'As', 'At', 'Be', 'Because', 'Been', 'Before', 'Being', 'Between', 'Both', 'By',\\\n",
    "'could','Could', 'did', 'do','Did','Do','does','Does','doing','Doing','during','During', 'each','Each',\\\n",
    "'few', 'for', 'from', 'further','Few','For','From','Further',\\\n",
    "'had', 'has', 'have', 'having', 'Had', 'Has', 'Have', 'Having','he','He', \"he'd\",\"He'd\", \"he'll\",\"He'll\",\\\n",
    "\"he's\", 'her', 'here', \"here's\", 'hers', 'herself', 'him', 'himself', 'his', 'how', \"how's\", 'i', \"i'd\", \"i'll\", \"i'm\",\\\n",
    "\"He's\", 'Her', 'Here', \"Here's\", 'Hers', 'Herself', 'Him', 'Himself', 'His', 'How', \"How's\", 'I', \"I'd\", \"I'll\", \"I'm\",\\\n",
    "'get','Get','got','Got','go','Go', \"I've\",\"i've\",\\\n",
    "'if','is','in', 'into', 'its',\"it's\", 'itself', \"let's\", 'me', 'more', 'most', 'my',\\\n",
    "'If','Is','In', 'Into', 'Its',\"It's\", 'Itself', \"Let's\", 'Me', 'More', 'Most', 'My',\\\n",
    "'myself', 'nor', 'of', 'off', 'on', 'once', 'only', 'or', 'other', 'our','one',\\\n",
    "'Myself', 'Nor', 'Of', 'Off', 'On', 'Once', 'Only', 'Or', 'Other', 'Our','One',\\\n",
    "'over', 'own', 'same', 'she', \"she'd\", \"she'll\", \"she's\", 'some', 'than',\\\n",
    "'Over', 'Own', 'Same', 'She', \"She'd\", \"She'll\", \"She's\", 'Some', 'Than',\\\n",
    "'that', \"that's\", 'the', 'their', 'theirs', 'them', 'themselves', 'then', 'there',\\\n",
    "'That', \"That's\", 'The', 'Their', 'Theirs', 'Them', 'Themselves', 'Then', 'There',\\\n",
    "\"there's\", 'these', 'they',\"There's\", 'These', 'They',\\\n",
    "\"they'd\",\"they'll\", \"they're\", \"they've\", 'this', 'those', 'through', 'to', 'too', 'should', 'under', 'until',\\\n",
    "\"They'd\",\"They'll\", \"They're\", \"They've\", 'This', 'Those', 'Through', 'To', 'Too', 'Should', 'Under', 'Until',\\\n",
    "'was','Was','went','Went','we','We',\\\n",
    "\"we'd\", \"we'll\", \"we're\", \"we've\", 'what', \"what's\", 'when', \"when's\", 'where', \"where's\", 'which',\\\n",
    "\"We'd\", \"We'll\", \"We're\", \"We've\", 'What', \"What's\", 'When', \"When's\", 'Where', \"Where's\", 'Which',\\\n",
    "'while', 'who', \"who's\", 'whom', 'why', \"why's\", 'with',\\\n",
    "'While', 'Who', \"Who's\", 'Whom', 'Why', \"Why's\", 'With',\\\n",
    "'would','Would', 'you', 'You', \"you'd\", \"You'd\", \"you'll\", \"You'll\", \"you're\",\"You're\",\\\n",
    "\"you've\",\"You've\", 'your','Your', 'yours','Yours', 'yourself','Yourself', 'yourselves','Yourselves',\\\n",
    "'restaurant', 'bar', 'pizza', 'food', 'coffee', 'location', 'service', 'staff', 'work', 'always', 'time', 'even', 'day',\\\n",
    "'Restaurant', 'Bar', 'Pizza', 'Food', 'Coffee', 'Location', 'Service', 'Staff', 'Work', 'Always', 'Time', 'Even', 'Day',\\\n",
    "'customer','Customer','now','Now','area','Area',\\\n",
    "'BBQ','bbq','place','mexican','tacos','review','one','work','time','new','know','even','people','room','price','back','said',\\\n",
    "'Place','Mexican','Tacos','Review','One','Work','Time','New','Know','Even','People','Room','Price','Back','Said']"
   ]
  }
 ],
 "metadata": {
  "colab": {
   "name": "2 Creation of User Profiles.ipynb",
   "provenance": [],
   "toc_visible": true
  },
  "kernelspec": {
   "display_name": "ABA",
   "language": "python",
   "name": "aba"
  },
  "language_info": {
   "codemirror_mode": {
    "name": "ipython",
    "version": 3
   },
   "file_extension": ".py",
   "mimetype": "text/x-python",
   "name": "python",
   "nbconvert_exporter": "python",
   "pygments_lexer": "ipython3",
   "version": "3.9.7"
  }
 },
 "nbformat": 4,
 "nbformat_minor": 5
}
